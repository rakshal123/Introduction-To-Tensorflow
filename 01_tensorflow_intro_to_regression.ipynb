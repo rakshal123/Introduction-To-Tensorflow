{
  "nbformat": 4,
  "nbformat_minor": 0,
  "metadata": {
    "colab": {
      "name": "01_tensorflow_intro_to_regression.ipynb",
      "provenance": [],
      "collapsed_sections": [],
      "authorship_tag": "ABX9TyOHRvetuyiDDHD4NCgmPydR",
      "include_colab_link": true
    },
    "kernelspec": {
      "name": "python3",
      "display_name": "Python 3"
    },
    "language_info": {
      "name": "python"
    }
  },
  "cells": [
    {
      "cell_type": "markdown",
      "metadata": {
        "id": "view-in-github",
        "colab_type": "text"
      },
      "source": [
        "<a href=\"https://colab.research.google.com/github/rakshal123/Introduction-To-Tensorflow/blob/main/01_tensorflow_intro_to_regression.ipynb\" target=\"_parent\"><img src=\"https://colab.research.google.com/assets/colab-badge.svg\" alt=\"Open In Colab\"/></a>"
      ]
    },
    {
      "cell_type": "markdown",
      "metadata": {
        "id": "foM5yv11282r"
      },
      "source": [
        "### Intoduction To Regression with Neural Networks in TensorFlow\n",
        "\n",
        "Regression is to predict a numerical value for a variableusing the other features."
      ]
    },
    {
      "cell_type": "code",
      "metadata": {
        "colab": {
          "base_uri": "https://localhost:8080/",
          "height": 36
        },
        "id": "j2duIsGF3WAw",
        "outputId": "a3a1f070-4da2-4156-9bfe-3e24d69a475c"
      },
      "source": [
        "# Import Tensorflow\n",
        "import tensorflow as tf\n",
        "tf.__version__"
      ],
      "execution_count": null,
      "outputs": [
        {
          "output_type": "execute_result",
          "data": {
            "application/vnd.google.colaboratory.intrinsic+json": {
              "type": "string"
            },
            "text/plain": [
              "'2.4.1'"
            ]
          },
          "metadata": {
            "tags": []
          },
          "execution_count": 1
        }
      ]
    },
    {
      "cell_type": "markdown",
      "metadata": {
        "id": "mlBPXMtH3k5q"
      },
      "source": [
        "# Creating the Data to view and fit"
      ]
    },
    {
      "cell_type": "code",
      "metadata": {
        "colab": {
          "base_uri": "https://localhost:8080/",
          "height": 288
        },
        "id": "SwhIemCW38gB",
        "outputId": "8278b9b3-a8b3-4165-c992-f079a060abcf"
      },
      "source": [
        "import numpy as np\n",
        "import matplotlib.pyplot as plt\n",
        "\n",
        "# Create the features\n",
        "X = np.array([-7.0,-4.0,-1.0,2.0,5.0,8.0,11.0,14.0])\n",
        "\n",
        "# Create the labels\n",
        "y = np.array([3.0,6.0,9.0,12.0,15.0,18.0,21.0,24.0])\n",
        "\n",
        "# Visualize it\n",
        "\n",
        "plt.scatter(X,y)"
      ],
      "execution_count": null,
      "outputs": [
        {
          "output_type": "execute_result",
          "data": {
            "text/plain": [
              "<matplotlib.collections.PathCollection at 0x7fe7d297ee50>"
            ]
          },
          "metadata": {
            "tags": []
          },
          "execution_count": 2
        },
        {
          "output_type": "display_data",
          "data": {
            "image/png": "[encoded data removed]",
            "text/plain": [
              "<Figure size 432x288 with 1 Axes>"
            ]
          },
          "metadata": {
            "tags": [],
            "needs_background": "light"
          }
        }
      ]
    },
    {
      "cell_type": "markdown",
      "metadata": {
        "id": "Sh-n-Vt45Bmx"
      },
      "source": [
        "###INPUT and output shapes"
      ]
    },
    {
      "cell_type": "code",
      "metadata": {
        "colab": {
          "base_uri": "https://localhost:8080/"
        },
        "id": "QDtINKBN6FdO",
        "outputId": "49749499-0dfd-445c-88c3-e7e3bc00636e"
      },
      "source": [
        "# Turn the numpy arrays into Tensors\n",
        "\n",
        "X = tf.constant(X)\n",
        "y = tf.constant(y)\n",
        "\n",
        "X,y"
      ],
      "execution_count": null,
      "outputs": [
        {
          "output_type": "execute_result",
          "data": {
            "text/plain": [
              "(<tf.Tensor: shape=(8,), dtype=float64, numpy=array([-7., -4., -1.,  2.,  5.,  8., 11., 14.])>,\n",
              " <tf.Tensor: shape=(8,), dtype=float64, numpy=array([ 3.,  6.,  9., 12., 15., 18., 21., 24.])>)"
            ]
          },
          "metadata": {
            "tags": []
          },
          "execution_count": 3
        }
      ]
    },
    {
      "cell_type": "code",
      "metadata": {
        "colab": {
          "base_uri": "https://localhost:8080/"
        },
        "id": "-Ecd6qnM71Hy",
        "outputId": "f236444b-233f-4d0a-8e3a-51bc4e12f1dc"
      },
      "source": [
        "input_shape = X[0].shape\n",
        "output_shape = y[0].shape\n",
        "\n",
        "input_shape,output_shape"
      ],
      "execution_count": null,
      "outputs": [
        {
          "output_type": "execute_result",
          "data": {
            "text/plain": [
              "(TensorShape([]), TensorShape([]))"
            ]
          },
          "metadata": {
            "tags": []
          },
          "execution_count": 4
        }
      ]
    },
    {
      "cell_type": "code",
      "metadata": {
        "colab": {
          "base_uri": "https://localhost:8080/",
          "height": 288
        },
        "id": "eA0xfPpq7_eA",
        "outputId": "9429bcec-47f9-447b-fc4d-c5dbc7167226"
      },
      "source": [
        "plt.scatter(X,y)"
      ],
      "execution_count": null,
      "outputs": [
        {
          "output_type": "execute_result",
          "data": {
            "text/plain": [
              "<matplotlib.collections.PathCollection at 0x7fe7cb73edd0>"
            ]
          },
          "metadata": {
            "tags": []
          },
          "execution_count": 5
        },
        {
          "output_type": "display_data",
          "data": {
            "image/png": "[encoded data removed]",
            "text/plain": [
              "<Figure size 432x288 with 1 Axes>"
            ]
          },
          "metadata": {
            "tags": [],
            "needs_background": "light"
          }
        }
      ]
    },
    {
      "cell_type": "markdown",
      "metadata": {
        "id": "5ABOyxfj8IMJ"
      },
      "source": [
        "### Steps in Modelling with TensorFlow\n",
        "\n",
        "1. **Creating the Model** - define the input and output layers, as well as the hidden layers of the model\n",
        "2. **Compiling a Model** - define the loss function and optimizer(tells our model how to improve the patterns it is learning) and evaluation metrics(what can we use to interpret the performance of our model).\n",
        "3. **Fitting a Model** - letting the model try to find patterns between X & y(features and labels)."
      ]
    },
    {
      "cell_type": "code",
      "metadata": {
        "colab": {
          "base_uri": "https://localhost:8080/"
        },
        "id": "ySgjVAdn9aGd",
        "outputId": "2bf2a523-a525-4c28-be29-5437725cded6"
      },
      "source": [
        "# Set the Random seed\n",
        "tf.random.set_seed(42)\n",
        "\n",
        "# 1. Create a model using the Sequential API\n",
        "model = tf.keras.Sequential([tf.keras.layers.Dense(1)])\n",
        "\n",
        "#2. Compile the model\n",
        "model.compile(steps_per_execution=1,loss = tf.keras.losses.mae, # mae is Mean Absolute error\n",
        "              optimizer = tf.keras.optimizers.SGD(), #short for stochastic gradient descent\n",
        "              metrics = [\"mae\"])\n",
        "\n",
        "#3. Fit the Model\n",
        "model.fit(X,y,epochs=5)"
      ],
      "execution_count": null,
      "outputs": [
        {
          "output_type": "stream",
          "text": [
            "Epoch 1/5\n",
            "1/1 [==============================] - 0s 477ms/step - loss: 11.5048 - mae: 11.5048\n",
            "Epoch 2/5\n",
            "1/1 [==============================] - 0s 3ms/step - loss: 11.3723 - mae: 11.3723\n",
            "Epoch 3/5\n",
            "1/1 [==============================] - 0s 4ms/step - loss: 11.2398 - mae: 11.2398\n",
            "Epoch 4/5\n",
            "1/1 [==============================] - 0s 5ms/step - loss: 11.1073 - mae: 11.1073\n",
            "Epoch 5/5\n",
            "1/1 [==============================] - 0s 4ms/step - loss: 10.9748 - mae: 10.9748\n"
          ],
          "name": "stdout"
        },
        {
          "output_type": "execute_result",
          "data": {
            "text/plain": [
              "<tensorflow.python.keras.callbacks.History at 0x7fe7cc46bfd0>"
            ]
          },
          "metadata": {
            "tags": []
          },
          "execution_count": 6
        }
      ]
    },
    {
      "cell_type": "code",
      "metadata": {
        "colab": {
          "base_uri": "https://localhost:8080/"
        },
        "id": "b_GVB_K4Pxzu",
        "outputId": "8063ec80-92b6-4e31-9b62-2d6dd725d612"
      },
      "source": [
        "model.predict(X)"
      ],
      "execution_count": null,
      "outputs": [
        {
          "output_type": "execute_result",
          "data": {
            "text/plain": [
              "array([[-5.16542  ],\n",
              "       [-2.9302402],\n",
              "       [-0.69506  ],\n",
              "       [ 1.54012  ],\n",
              "       [ 3.7753   ],\n",
              "       [ 6.0104804],\n",
              "       [ 8.245661 ],\n",
              "       [10.480841 ]], dtype=float32)"
            ]
          },
          "metadata": {
            "tags": []
          },
          "execution_count": 7
        }
      ]
    },
    {
      "cell_type": "markdown",
      "metadata": {
        "id": "M-xlTFNF0V4u"
      },
      "source": [
        "### Improving our Model\n",
        "We can improve our model by altering the steps we take in creating the model-\n",
        "\n",
        "1. **Creating a Model** - here we might add more layers, increase the number of hidden units(all called neurons)within each of the hidden layers, change the activation function of each layer.\n",
        "2. **Compiling a Model** - here we might change the optimization function or perhaps the **learning rate** of the optimization function.\n",
        "3. **Fitting a Model**  - here we might fit a model for more **epochs**(leave it training for longer) or more data (give the model more examples to learn from)."
      ]
    },
    {
      "cell_type": "code",
      "metadata": {
        "id": "D_Mq0jjsSgjg"
      },
      "source": [
        "# let's rebuild the model\n",
        "\n",
        "#1. Create the Model\n",
        "model = tf.keras.Sequential([\n",
        "            tf.keras.layers.Dense(100,activation = \"relu\"),\n",
        "            tf.keras.layers.Dense(100,activation = \"relu\"),\n",
        "            tf.keras.layers.Dense(1)\n",
        "])\n",
        "\n",
        "#2. Compile a Model\n",
        "model.compile(loss=tf.keras.losses.mae,\n",
        "              optimizer=tf.keras.optimizers.Adam(lr=0.1),\n",
        "              metrics=[\"mae\"])\n",
        "\n",
        "#3. Fit the model\n",
        "model.fit(X,y,epochs=100)"
      ],
      "execution_count": null,
      "outputs": []
    },
    {
      "cell_type": "code",
      "metadata": {
        "id": "NVPrDbVrUU-8"
      },
      "source": [
        "model.predict([27.0])"
      ],
      "execution_count": null,
      "outputs": []
    },
    {
      "cell_type": "markdown",
      "metadata": {
        "id": "WjbxIqlH5hr9"
      },
      "source": [
        "### Evaluating A Model\n",
        "\n",
        "The way we will go through while making a model is\n",
        "\n",
        "```\n",
        "Build a model-> fit it -> evaluate it -> tweak a model -> fit it ->evaluate it ->tweak a model ->fit it -> evaluate it ->tweak it.....\n",
        "```"
      ]
    },
    {
      "cell_type": "markdown",
      "metadata": {
        "id": "A69rAqH2SMcH"
      },
      "source": [
        "When it comes to evaluation we need to **Visualize**\n",
        "\n",
        "It's a good idea to visualize:\n",
        "* The data - what data are we working with? What does it look like?\n",
        "* The model - what does our model looks like\n",
        "* The training of the Model - how does the model performs when it learns\n",
        "* The prediction of the Model - how does the prediction model line up against the ground truth(the original labels)?\n",
        "\n",
        "\n",
        " \n",
        "\n"
      ]
    },
    {
      "cell_type": "code",
      "metadata": {
        "id": "o332UJQbWTG1"
      },
      "source": [
        "X = tf.cast(tf.range(-100,100,4),dtype=tf.float32)\n",
        "X"
      ],
      "execution_count": null,
      "outputs": []
    },
    {
      "cell_type": "code",
      "metadata": {
        "id": "SGKrZon0WlMA"
      },
      "source": [
        "y = X+10\n",
        "y"
      ],
      "execution_count": null,
      "outputs": []
    },
    {
      "cell_type": "code",
      "metadata": {
        "id": "voh72o55WwB8"
      },
      "source": [
        "# Visualize the Data\n",
        "plt.scatter(X,y)"
      ],
      "execution_count": null,
      "outputs": []
    },
    {
      "cell_type": "code",
      "metadata": {
        "id": "xsFGS73yc0_C"
      },
      "source": [
        ""
      ],
      "execution_count": null,
      "outputs": []
    },
    {
      "cell_type": "markdown",
      "metadata": {
        "id": "mKLstKnYW5td"
      },
      "source": [
        "### Three Sets\n",
        "\n",
        "* Training Set\n",
        "* Validation Set - get tuned on this data(model is tweaked om this data)\n",
        "* Test Set - Model gets evaluated on this data\n"
      ]
    },
    {
      "cell_type": "code",
      "metadata": {
        "id": "nyeodsqKXKZq"
      },
      "source": [
        "# Split the data into train and test sets\n",
        "X_train = X[:40]# first samples are training samples\n",
        "y_train = y[:40]\n",
        "X_test = X[40:]\n",
        "y_test = y[40:]"
      ],
      "execution_count": null,
      "outputs": []
    },
    {
      "cell_type": "markdown",
      "metadata": {
        "id": "PM-lBX96cpfY"
      },
      "source": [
        "### Visualize the Data\n",
        "\n",
        "Now we have our data in training and tests sets...now we must visualize our data"
      ]
    },
    {
      "cell_type": "code",
      "metadata": {
        "id": "bH5yi-AHc9P_"
      },
      "source": [
        "plt.figure(figsize=(10,7))\n",
        "# Plot training data in blue\n",
        "plt.scatter(X_train,y_train,c=\"b\",label = \"Training Data\")\n",
        "# Plot the Test Data in green\n",
        "plt.scatter(X_test,y_test,c=\"g\",label=\"Testing Data\")\n",
        "# Show a legend\n",
        "plt.legend()"
      ],
      "execution_count": null,
      "outputs": []
    },
    {
      "cell_type": "code",
      "metadata": {
        "id": "AFo5Ud76d8T0"
      },
      "source": [
        "# Lets have a look at how to create a neural Network for our data\n",
        "\n",
        "#1. Create a model\n",
        "model = tf.keras.Sequential([\n",
        "                             tf.keras.layers.Dense(100,activation=\"relu\"),\n",
        "                             tf.keras.layers.Dense(1)\n",
        "])\n",
        "\n",
        "#2. Compile the Model\n",
        "model.compile(loss = tf.keras.losses.mse,\n",
        "              optimizer = tf.keras.optimizers.Adam(lr=0.1),\n",
        "              metrics = [\"mse\"])\n",
        "\n",
        "#3. Fit in the Model\n",
        "model.fit(X_train,y_train,epochs=100)"
      ],
      "execution_count": null,
      "outputs": []
    },
    {
      "cell_type": "code",
      "metadata": {
        "id": "73jSoB3ofsk1"
      },
      "source": [
        "model.summary()"
      ],
      "execution_count": null,
      "outputs": []
    },
    {
      "cell_type": "markdown",
      "metadata": {
        "id": "h6jfcGxZ3ipv"
      },
      "source": [
        "Trainable Parameters - these are the parameters (patterns)the model can update as it trains"
      ]
    },
    {
      "cell_type": "code",
      "metadata": {
        "id": "x0SvvBK_5493"
      },
      "source": [
        "# If we have to visualize our model\n",
        "\n",
        "from tensorflow.keras.utils import plot_model\n",
        "\n",
        "plot_model(model=model,show_shapes=True)"
      ],
      "execution_count": null,
      "outputs": []
    },
    {
      "cell_type": "markdown",
      "metadata": {
        "id": "dFNZnQvd6yd1"
      },
      "source": [
        "### Visualizing Our Model Prediction\n",
        "To visualize our Model Prediction,it's a good idea to plot them against the ground truth(y_pred vs y_test)"
      ]
    },
    {
      "cell_type": "code",
      "metadata": {
        "id": "xrutfz4tDwtN"
      },
      "source": [
        "# Make some Prediction\n",
        "\n",
        "y_pred = model.predict(X_test)\n",
        "y_pred"
      ],
      "execution_count": null,
      "outputs": []
    },
    {
      "cell_type": "code",
      "metadata": {
        "id": "xixwXNIFD5zq"
      },
      "source": [
        "y_test"
      ],
      "execution_count": null,
      "outputs": []
    },
    {
      "cell_type": "code",
      "metadata": {
        "id": "jAN-RCHTD8ND"
      },
      "source": [
        "# Make a pred/plot function\n",
        "\n",
        "def plot_predictions(train_data=X_train,\n",
        "                      train_labels=y_train,\n",
        "                      test_data=X_test,\n",
        "                      test_labels=y_test,\n",
        "                      predictions=y_pred):\n",
        "  \"\"\"\n",
        "  Plot Training Data, Test Data and compare the predictions to the ground reality\n",
        "  \"\"\"\n",
        "  plt.figure(figsize=(10,7))\n",
        "  #Plot the training data in blue\n",
        "  plt.scatter(train_data,train_labels,c=\"b\",label=\"Training Data\")\n",
        "  #Plot the test data in green\n",
        "  plt.scatter(test_data,test_labels,c=\"g\",label=\"Testing Data\")\n",
        "  # Plot the predicted data in red\n",
        "  plt.scatter(test_data,predictions,c=\"r\",label=\"Prediction Data\")\n",
        "  #Plot legends\n",
        "  plt.legend()\n",
        "plot_predictions(X_train,y_train,X_test,y_test,y_pred)"
      ],
      "execution_count": null,
      "outputs": []
    },
    {
      "cell_type": "markdown",
      "metadata": {
        "id": "Gd_9Rh41Fdll"
      },
      "source": [
        "### Evaluating our model's prediction using regression evaluation metrics\n",
        "\n",
        "Depending on the problem working on there will be different evaluation metrics to evaluate our model's performance\n",
        "\n",
        "Since we are working on regresion, the two of the main metrics are:\n",
        "* MAE : Mean Absolute error\n",
        "* MSE : Mean Square Error"
      ]
    },
    {
      "cell_type": "code",
      "metadata": {
        "id": "wogYWEkHIZzD"
      },
      "source": [
        "# Evaluate the model on test set\n",
        "model.evaluate(X_test,y_test)"
      ],
      "execution_count": null,
      "outputs": []
    },
    {
      "cell_type": "code",
      "metadata": {
        "id": "MNlk_d71Ja6Z"
      },
      "source": [
        "# Calcluate the mean absolute error\n",
        "\n",
        "y_pred-y_test#This output is comming because the shapes are different"
      ],
      "execution_count": null,
      "outputs": []
    },
    {
      "cell_type": "code",
      "metadata": {
        "id": "EKl8b5YkLX62"
      },
      "source": [
        "y_pred = tf.constant(y_pred)\n",
        "y_pred.shape,y_test.shape"
      ],
      "execution_count": null,
      "outputs": []
    },
    {
      "cell_type": "code",
      "metadata": {
        "id": "S3OnQtpALxG1"
      },
      "source": [
        "# in order to take out the mean absolute error metric we need to mke their shapes same\n",
        "y_pred = tf.squeeze(y_pred)\n",
        "y_pred.shape,y_test.shape "
      ],
      "execution_count": null,
      "outputs": []
    },
    {
      "cell_type": "code",
      "metadata": {
        "colab": {
          "base_uri": "https://localhost:8080/"
        },
        "id": "V7NBpeo7MGY3",
        "outputId": "dec5a1e2-58fd-4870-f6b8-e3541d8f4fa8"
      },
      "source": [
        "mae = tf.metrics.mean_absolute_error(y_true=y_test,y_pred=y_pred)\n",
        "mae"
      ],
      "execution_count": null,
      "outputs": [
        {
          "output_type": "execute_result",
          "data": {
            "text/plain": [
              "<tf.Tensor: shape=(), dtype=float32, numpy=0.5934807>"
            ]
          },
          "metadata": {
            "tags": []
          },
          "execution_count": 0
        }
      ]
    },
    {
      "cell_type": "code",
      "metadata": {
        "id": "5dLVk9lrMoBS"
      },
      "source": [
        "# Let's make some function to reuse MAE and MSE\n",
        "def mae(y_true,y_pred):\n",
        "  return tf.metrics.MAE(y_true=y_true,y_pred=tf.squeeze(y_pred))\n",
        "\n",
        "def mse(y_true,y_pred):\n",
        "  return tf.metrics.MSE(y_true = y_true,y_pred = tf.squeeze(y_pred))\n"
      ],
      "execution_count": null,
      "outputs": []
    },
    {
      "cell_type": "markdown",
      "metadata": {
        "id": "lM_UcRAkPa8i"
      },
      "source": [
        "### Running Experiments to improve our Model\n",
        "\n",
        "1. Get more Data\n",
        "2. Make your model larger(using more complex models)\n",
        "3. Train for longer\n",
        "\n",
        "Let's use three Models:\n",
        "\n",
        "1. `model_1`- the same as the original model, 1 layer, trained for 100 epochs.\n",
        "2. `model_2`- 2 layers ,trained for 100 epochs\n",
        "3. `model_3`- 2 layers, trained for 500 epochs"
      ]
    },
    {
      "cell_type": "code",
      "metadata": {
        "colab": {
          "base_uri": "https://localhost:8080/"
        },
        "id": "3N0iT5YuPua2",
        "outputId": "1a9ea799-86d6-4e0b-85e6-80b0630b4ccd"
      },
      "source": [
        "X_train,y_train"
      ],
      "execution_count": null,
      "outputs": [
        {
          "output_type": "execute_result",
          "data": {
            "text/plain": [
              "(<tf.Tensor: shape=(40,), dtype=float32, numpy=\n",
              " array([-100.,  -96.,  -92.,  -88.,  -84.,  -80.,  -76.,  -72.,  -68.,\n",
              "         -64.,  -60.,  -56.,  -52.,  -48.,  -44.,  -40.,  -36.,  -32.,\n",
              "         -28.,  -24.,  -20.,  -16.,  -12.,   -8.,   -4.,    0.,    4.,\n",
              "           8.,   12.,   16.,   20.,   24.,   28.,   32.,   36.,   40.,\n",
              "          44.,   48.,   52.,   56.], dtype=float32)>,\n",
              " <tf.Tensor: shape=(40,), dtype=float32, numpy=\n",
              " array([-90., -86., -82., -78., -74., -70., -66., -62., -58., -54., -50.,\n",
              "        -46., -42., -38., -34., -30., -26., -22., -18., -14., -10.,  -6.,\n",
              "         -2.,   2.,   6.,  10.,  14.,  18.,  22.,  26.,  30.,  34.,  38.,\n",
              "         42.,  46.,  50.,  54.,  58.,  62.,  66.], dtype=float32)>)"
            ]
          },
          "metadata": {
            "tags": []
          },
          "execution_count": 0
        }
      ]
    },
    {
      "cell_type": "code",
      "metadata": {
        "colab": {
          "base_uri": "https://localhost:8080/"
        },
        "id": "kqZFR5QeQRXx",
        "outputId": "3732a83a-fa41-4ced-bf91-cc4e57ff6cdc"
      },
      "source": [
        "# Build model_1\n",
        "\n",
        "# set the random seed\n",
        "tf.random.set_seed(42)\n",
        "\n",
        "# create the Model\n",
        "\n",
        "model = tf.keras.Sequential([\n",
        "                             tf.keras.layers.Dense(1)\n",
        "])\n",
        "\n",
        "#2. Compile the Model\n",
        "\n",
        "model.compile(loss = tf.keras.losses.MAE,\n",
        "              optimizer = tf.keras.optimizers.SGD(),\n",
        "              metrics=[\"mae\"])\n",
        "#Fit the model\n",
        "\n",
        "model.fit(X_train,y_train,epochs=100)"
      ],
      "execution_count": null,
      "outputs": [
        {
          "output_type": "stream",
          "text": [
            "Epoch 1/100\n",
            "2/2 [==============================] - 0s 7ms/step - loss: 16.4124 - mae: 16.4124\n",
            "Epoch 2/100\n",
            "2/2 [==============================] - 0s 5ms/step - loss: 11.0829 - mae: 11.0829\n",
            "Epoch 3/100\n",
            "2/2 [==============================] - 0s 3ms/step - loss: 11.1242 - mae: 11.1242\n",
            "Epoch 4/100\n",
            "2/2 [==============================] - 0s 3ms/step - loss: 8.6945 - mae: 8.6945\n",
            "Epoch 5/100\n",
            "2/2 [==============================] - 0s 3ms/step - loss: 9.8003 - mae: 9.8003\n",
            "Epoch 6/100\n",
            "2/2 [==============================] - 0s 3ms/step - loss: 9.5263 - mae: 9.5263\n",
            "Epoch 7/100\n",
            "2/2 [==============================] - 0s 3ms/step - loss: 8.4102 - mae: 8.4102\n",
            "Epoch 8/100\n",
            "2/2 [==============================] - 0s 3ms/step - loss: 9.1449 - mae: 9.1449\n",
            "Epoch 9/100\n",
            "2/2 [==============================] - 0s 3ms/step - loss: 19.4932 - mae: 19.4932\n",
            "Epoch 10/100\n",
            "2/2 [==============================] - 0s 3ms/step - loss: 9.6061 - mae: 9.6061\n",
            "Epoch 11/100\n",
            "2/2 [==============================] - 0s 3ms/step - loss: 8.5992 - mae: 8.5992\n",
            "Epoch 12/100\n",
            "2/2 [==============================] - 0s 3ms/step - loss: 10.9324 - mae: 10.9324\n",
            "Epoch 13/100\n",
            "2/2 [==============================] - 0s 3ms/step - loss: 10.0574 - mae: 10.0574\n",
            "Epoch 14/100\n",
            "2/2 [==============================] - 0s 3ms/step - loss: 16.5679 - mae: 16.5679\n",
            "Epoch 15/100\n",
            "2/2 [==============================] - 0s 2ms/step - loss: 11.4537 - mae: 11.4537\n",
            "Epoch 16/100\n",
            "2/2 [==============================] - 0s 3ms/step - loss: 8.4056 - mae: 8.4056\n",
            "Epoch 17/100\n",
            "2/2 [==============================] - 0s 3ms/step - loss: 13.8417 - mae: 13.8417\n",
            "Epoch 18/100\n",
            "2/2 [==============================] - 0s 2ms/step - loss: 11.6621 - mae: 11.6621\n",
            "Epoch 19/100\n",
            "2/2 [==============================] - 0s 3ms/step - loss: 18.7623 - mae: 18.7623\n",
            "Epoch 20/100\n",
            "2/2 [==============================] - 0s 2ms/step - loss: 15.5702 - mae: 15.5702\n",
            "Epoch 21/100\n",
            "2/2 [==============================] - 0s 2ms/step - loss: 10.9959 - mae: 10.9959\n",
            "Epoch 22/100\n",
            "2/2 [==============================] - 0s 3ms/step - loss: 8.0023 - mae: 8.0023\n",
            "Epoch 23/100\n",
            "2/2 [==============================] - 0s 3ms/step - loss: 9.8593 - mae: 9.8593\n",
            "Epoch 24/100\n",
            "2/2 [==============================] - 0s 3ms/step - loss: 7.5796 - mae: 7.5796\n",
            "Epoch 25/100\n",
            "2/2 [==============================] - 0s 3ms/step - loss: 13.7226 - mae: 13.7226\n",
            "Epoch 26/100\n",
            "2/2 [==============================] - 0s 4ms/step - loss: 17.1740 - mae: 17.1740\n",
            "Epoch 27/100\n",
            "2/2 [==============================] - 0s 4ms/step - loss: 13.4233 - mae: 13.4233\n",
            "Epoch 28/100\n",
            "2/2 [==============================] - 0s 4ms/step - loss: 14.5473 - mae: 14.5473\n",
            "Epoch 29/100\n",
            "2/2 [==============================] - 0s 12ms/step - loss: 9.8753 - mae: 9.8753\n",
            "Epoch 30/100\n",
            "2/2 [==============================] - 0s 3ms/step - loss: 17.1187 - mae: 17.1187\n",
            "Epoch 31/100\n",
            "2/2 [==============================] - 0s 3ms/step - loss: 24.5949 - mae: 24.5949\n",
            "Epoch 32/100\n",
            "2/2 [==============================] - 0s 3ms/step - loss: 7.6765 - mae: 7.6765\n",
            "Epoch 33/100\n",
            "2/2 [==============================] - 0s 3ms/step - loss: 9.2971 - mae: 9.2971\n",
            "Epoch 34/100\n",
            "2/2 [==============================] - 0s 3ms/step - loss: 14.1703 - mae: 14.1703\n",
            "Epoch 35/100\n",
            "2/2 [==============================] - 0s 3ms/step - loss: 10.8635 - mae: 10.8635\n",
            "Epoch 36/100\n",
            "2/2 [==============================] - 0s 3ms/step - loss: 13.5689 - mae: 13.5689\n",
            "Epoch 37/100\n",
            "2/2 [==============================] - 0s 3ms/step - loss: 9.3448 - mae: 9.3448\n",
            "Epoch 38/100\n",
            "2/2 [==============================] - 0s 3ms/step - loss: 10.4804 - mae: 10.4804\n",
            "Epoch 39/100\n",
            "2/2 [==============================] - 0s 3ms/step - loss: 10.0178 - mae: 10.0178\n",
            "Epoch 40/100\n",
            "2/2 [==============================] - 0s 3ms/step - loss: 10.8005 - mae: 10.8005\n",
            "Epoch 41/100\n",
            "2/2 [==============================] - 0s 3ms/step - loss: 7.7789 - mae: 7.7789\n",
            "Epoch 42/100\n",
            "2/2 [==============================] - 0s 3ms/step - loss: 10.2844 - mae: 10.2844\n",
            "Epoch 43/100\n",
            "2/2 [==============================] - 0s 3ms/step - loss: 8.9628 - mae: 8.9628\n",
            "Epoch 44/100\n",
            "2/2 [==============================] - 0s 3ms/step - loss: 12.6243 - mae: 12.6243\n",
            "Epoch 45/100\n",
            "2/2 [==============================] - 0s 3ms/step - loss: 14.1236 - mae: 14.1236\n",
            "Epoch 46/100\n",
            "2/2 [==============================] - 0s 3ms/step - loss: 8.2681 - mae: 8.2681\n",
            "Epoch 47/100\n",
            "2/2 [==============================] - 0s 3ms/step - loss: 9.0126 - mae: 9.0126\n",
            "Epoch 48/100\n",
            "2/2 [==============================] - 0s 3ms/step - loss: 10.6882 - mae: 10.6882\n",
            "Epoch 49/100\n",
            "2/2 [==============================] - 0s 3ms/step - loss: 7.7431 - mae: 7.7431\n",
            "Epoch 50/100\n",
            "2/2 [==============================] - 0s 3ms/step - loss: 9.3950 - mae: 9.3950\n",
            "Epoch 51/100\n",
            "2/2 [==============================] - 0s 4ms/step - loss: 8.9267 - mae: 8.9267\n",
            "Epoch 52/100\n",
            "2/2 [==============================] - 0s 4ms/step - loss: 16.9818 - mae: 16.9818\n",
            "Epoch 53/100\n",
            "2/2 [==============================] - 0s 3ms/step - loss: 14.8677 - mae: 14.8677\n",
            "Epoch 54/100\n",
            "2/2 [==============================] - 0s 3ms/step - loss: 22.0413 - mae: 22.0413\n",
            "Epoch 55/100\n",
            "2/2 [==============================] - 0s 4ms/step - loss: 17.0640 - mae: 17.0640\n",
            "Epoch 56/100\n",
            "2/2 [==============================] - 0s 3ms/step - loss: 9.9520 - mae: 9.9520\n",
            "Epoch 57/100\n",
            "2/2 [==============================] - 0s 4ms/step - loss: 9.7522 - mae: 9.7522\n",
            "Epoch 58/100\n",
            "2/2 [==============================] - 0s 4ms/step - loss: 9.4378 - mae: 9.4378\n",
            "Epoch 59/100\n",
            "2/2 [==============================] - 0s 3ms/step - loss: 8.3373 - mae: 8.3373\n",
            "Epoch 60/100\n",
            "2/2 [==============================] - 0s 11ms/step - loss: 9.6425 - mae: 9.6425\n",
            "Epoch 61/100\n",
            "2/2 [==============================] - 0s 4ms/step - loss: 11.7590 - mae: 11.7590\n",
            "Epoch 62/100\n",
            "2/2 [==============================] - 0s 3ms/step - loss: 11.7187 - mae: 11.7187\n",
            "Epoch 63/100\n",
            "2/2 [==============================] - 0s 3ms/step - loss: 7.2316 - mae: 7.2316\n",
            "Epoch 64/100\n",
            "2/2 [==============================] - 0s 3ms/step - loss: 17.7848 - mae: 17.7848\n",
            "Epoch 65/100\n",
            "2/2 [==============================] - 0s 3ms/step - loss: 12.6255 - mae: 12.6255\n",
            "Epoch 66/100\n",
            "2/2 [==============================] - 0s 3ms/step - loss: 13.2840 - mae: 13.2840\n",
            "Epoch 67/100\n",
            "2/2 [==============================] - 0s 3ms/step - loss: 7.8471 - mae: 7.8471\n",
            "Epoch 68/100\n",
            "2/2 [==============================] - 0s 3ms/step - loss: 9.9708 - mae: 9.9708\n",
            "Epoch 69/100\n",
            "2/2 [==============================] - 0s 3ms/step - loss: 12.4903 - mae: 12.4903\n",
            "Epoch 70/100\n",
            "2/2 [==============================] - 0s 3ms/step - loss: 8.5001 - mae: 8.5001\n",
            "Epoch 71/100\n",
            "2/2 [==============================] - 0s 3ms/step - loss: 9.9996 - mae: 9.9996\n",
            "Epoch 72/100\n",
            "2/2 [==============================] - 0s 3ms/step - loss: 10.1797 - mae: 10.1797\n",
            "Epoch 73/100\n",
            "2/2 [==============================] - 0s 3ms/step - loss: 13.0024 - mae: 13.0024\n",
            "Epoch 74/100\n",
            "2/2 [==============================] - 0s 3ms/step - loss: 10.3812 - mae: 10.3812\n",
            "Epoch 75/100\n",
            "2/2 [==============================] - 0s 4ms/step - loss: 9.7621 - mae: 9.7621\n",
            "Epoch 76/100\n",
            "2/2 [==============================] - 0s 3ms/step - loss: 11.5186 - mae: 11.5186\n",
            "Epoch 77/100\n",
            "2/2 [==============================] - 0s 3ms/step - loss: 8.3070 - mae: 8.3070\n",
            "Epoch 78/100\n",
            "2/2 [==============================] - 0s 4ms/step - loss: 9.4436 - mae: 9.4436\n",
            "Epoch 79/100\n",
            "2/2 [==============================] - 0s 4ms/step - loss: 20.3897 - mae: 20.3897\n",
            "Epoch 80/100\n",
            "2/2 [==============================] - 0s 3ms/step - loss: 15.4751 - mae: 15.4751\n",
            "Epoch 81/100\n",
            "2/2 [==============================] - 0s 3ms/step - loss: 9.0208 - mae: 9.0208\n",
            "Epoch 82/100\n",
            "2/2 [==============================] - 0s 3ms/step - loss: 13.3869 - mae: 13.3869\n",
            "Epoch 83/100\n",
            "2/2 [==============================] - 0s 3ms/step - loss: 7.9649 - mae: 7.9649\n",
            "Epoch 84/100\n",
            "2/2 [==============================] - 0s 3ms/step - loss: 7.5702 - mae: 7.5702\n",
            "Epoch 85/100\n",
            "2/2 [==============================] - 0s 3ms/step - loss: 9.9706 - mae: 9.9706\n",
            "Epoch 86/100\n",
            "2/2 [==============================] - 0s 3ms/step - loss: 9.0533 - mae: 9.0533\n",
            "Epoch 87/100\n",
            "2/2 [==============================] - 0s 3ms/step - loss: 12.2670 - mae: 12.2670\n",
            "Epoch 88/100\n",
            "2/2 [==============================] - 0s 3ms/step - loss: 10.6052 - mae: 10.6052\n",
            "Epoch 89/100\n",
            "2/2 [==============================] - 0s 3ms/step - loss: 7.1986 - mae: 7.1986\n",
            "Epoch 90/100\n",
            "2/2 [==============================] - 0s 3ms/step - loss: 13.0379 - mae: 13.0379\n",
            "Epoch 91/100\n",
            "2/2 [==============================] - 0s 3ms/step - loss: 7.1968 - mae: 7.1968\n",
            "Epoch 92/100\n",
            "2/2 [==============================] - 0s 3ms/step - loss: 7.5386 - mae: 7.5386\n",
            "Epoch 93/100\n",
            "2/2 [==============================] - 0s 3ms/step - loss: 7.0932 - mae: 7.0932\n",
            "Epoch 94/100\n",
            "2/2 [==============================] - 0s 3ms/step - loss: 12.8860 - mae: 12.8860\n",
            "Epoch 95/100\n",
            "2/2 [==============================] - 0s 3ms/step - loss: 9.9620 - mae: 9.9620\n",
            "Epoch 96/100\n",
            "2/2 [==============================] - 0s 3ms/step - loss: 8.7739 - mae: 8.7739\n",
            "Epoch 97/100\n",
            "2/2 [==============================] - 0s 3ms/step - loss: 13.0861 - mae: 13.0861\n",
            "Epoch 98/100\n",
            "2/2 [==============================] - 0s 3ms/step - loss: 8.3848 - mae: 8.3848\n",
            "Epoch 99/100\n",
            "2/2 [==============================] - 0s 6ms/step - loss: 9.7828 - mae: 9.7828\n",
            "Epoch 100/100\n",
            "2/2 [==============================] - 0s 3ms/step - loss: 8.5252 - mae: 8.5252\n"
          ],
          "name": "stdout"
        },
        {
          "output_type": "execute_result",
          "data": {
            "text/plain": [
              "<tensorflow.python.keras.callbacks.History at 0x7fe7be0f7a10>"
            ]
          },
          "metadata": {
            "tags": []
          },
          "execution_count": 45
        }
      ]
    },
    {
      "cell_type": "code",
      "metadata": {
        "colab": {
          "base_uri": "https://localhost:8080/",
          "height": 467
        },
        "id": "9_sx_6ldSBxK",
        "outputId": "0b6a0393-90c8-470f-e40d-eefde814f427"
      },
      "source": [
        "# Make and plot predictions for model_1\n",
        "y_pred_1 = model.predict(X_test)\n",
        "plot_predictions(predictions=y_pred_1)"
      ],
      "execution_count": null,
      "outputs": [
        {
          "output_type": "stream",
          "text": [
            "WARNING:tensorflow:7 out of the last 7 calls to <function Model.make_predict_function.<locals>.predict_function at 0x7fe7c7de97a0> triggered tf.function retracing. Tracing is expensive and the excessive number of tracings could be due to (1) creating @tf.function repeatedly in a loop, (2) passing tensors with different shapes, (3) passing Python objects instead of tensors. For (1), please define your @tf.function outside of the loop. For (2), @tf.function has experimental_relax_shapes=True option that relaxes argument shapes that can avoid unnecessary retracing. For (3), please refer to https://www.tensorflow.org/guide/function#controlling_retracing and https://www.tensorflow.org/api_docs/python/tf/function for  more details.\n"
          ],
          "name": "stdout"
        },
        {
          "output_type": "display_data",
          "data": {
            "image/png": "[encoded data removed]",
            "text/plain": [
              "<Figure size 720x504 with 1 Axes>"
            ]
          },
          "metadata": {
            "tags": [],
            "needs_background": "light"
          }
        }
      ]
    },
    {
      "cell_type": "code",
      "metadata": {
        "colab": {
          "base_uri": "https://localhost:8080/"
        },
        "id": "1uuBsi25SrEd",
        "outputId": "2b4290a0-eb1b-4410-88c4-61d5a95dfbc2"
      },
      "source": [
        "# Calculate the evaluation Metrics\n",
        "\n",
        "mae_1 = mae(y_test,y_pred_1)\n",
        "mse_1 = mse(y_test,y_pred_1)\n",
        "\n",
        "mae_1,mse_1"
      ],
      "execution_count": null,
      "outputs": [
        {
          "output_type": "execute_result",
          "data": {
            "text/plain": [
              "(<tf.Tensor: shape=(), dtype=float32, numpy=18.745327>,\n",
              " <tf.Tensor: shape=(), dtype=float32, numpy=353.57336>)"
            ]
          },
          "metadata": {
            "tags": []
          },
          "execution_count": 47
        }
      ]
    },
    {
      "cell_type": "code",
      "metadata": {
        "colab": {
          "base_uri": "https://localhost:8080/"
        },
        "id": "RKmH6bC0S_w_",
        "outputId": "ff918d72-0249-4555-fd70-0cfde30638a4"
      },
      "source": [
        "# Build model_2\n",
        "\n",
        "model_2 = tf.keras.Sequential([\n",
        "                               tf.keras.layers.Dense(10),\n",
        "                               tf.keras.layers.Dense(1)\n",
        "])\n",
        "model_2.compile(loss=tf.keras.losses.MAE,\n",
        "                optimizer = tf.keras.optimizers.SGD(),\n",
        "                metrics=[\"mae\"])\n",
        "model_2.fit(X_train,y_train,epochs=100)"
      ],
      "execution_count": null,
      "outputs": [
        {
          "output_type": "stream",
          "text": [
            "Epoch 1/100\n",
            "2/2 [==============================] - 0s 5ms/step - loss: 77.0856 - mae: 77.0856\n",
            "Epoch 2/100\n",
            "2/2 [==============================] - 0s 4ms/step - loss: 17.0775 - mae: 17.0775\n",
            "Epoch 3/100\n",
            "2/2 [==============================] - 0s 5ms/step - loss: 20.1814 - mae: 20.1814\n",
            "Epoch 4/100\n",
            "2/2 [==============================] - 0s 3ms/step - loss: 12.5192 - mae: 12.5192\n",
            "Epoch 5/100\n",
            "2/2 [==============================] - 0s 3ms/step - loss: 14.1468 - mae: 14.1468\n",
            "Epoch 6/100\n",
            "2/2 [==============================] - 0s 3ms/step - loss: 11.6317 - mae: 11.6317\n",
            "Epoch 7/100\n",
            "2/2 [==============================] - 0s 3ms/step - loss: 12.8263 - mae: 12.8263\n",
            "Epoch 8/100\n",
            "2/2 [==============================] - 0s 2ms/step - loss: 11.2822 - mae: 11.2822\n",
            "Epoch 9/100\n",
            "2/2 [==============================] - 0s 2ms/step - loss: 41.5593 - mae: 41.5593\n",
            "Epoch 10/100\n",
            "2/2 [==============================] - 0s 3ms/step - loss: 27.6300 - mae: 27.6300\n",
            "Epoch 11/100\n",
            "2/2 [==============================] - 0s 3ms/step - loss: 10.2494 - mae: 10.2494\n",
            "Epoch 12/100\n",
            "2/2 [==============================] - 0s 2ms/step - loss: 25.0770 - mae: 25.0770\n",
            "Epoch 13/100\n",
            "2/2 [==============================] - 0s 5ms/step - loss: 19.1028 - mae: 19.1028\n",
            "Epoch 14/100\n",
            "2/2 [==============================] - 0s 5ms/step - loss: 23.8938 - mae: 23.8938\n",
            "Epoch 15/100\n",
            "2/2 [==============================] - 0s 5ms/step - loss: 15.1235 - mae: 15.1235\n",
            "Epoch 16/100\n",
            "2/2 [==============================] - 0s 4ms/step - loss: 11.3656 - mae: 11.3656\n",
            "Epoch 17/100\n",
            "2/2 [==============================] - 0s 5ms/step - loss: 23.1687 - mae: 23.1687\n",
            "Epoch 18/100\n",
            "2/2 [==============================] - 0s 4ms/step - loss: 12.1538 - mae: 12.1538\n",
            "Epoch 19/100\n",
            "2/2 [==============================] - 0s 4ms/step - loss: 16.7245 - mae: 16.7245\n",
            "Epoch 20/100\n",
            "2/2 [==============================] - 0s 3ms/step - loss: 8.0070 - mae: 8.0070\n",
            "Epoch 21/100\n",
            "2/2 [==============================] - 0s 4ms/step - loss: 14.4158 - mae: 14.4158\n",
            "Epoch 22/100\n",
            "2/2 [==============================] - 0s 3ms/step - loss: 12.7941 - mae: 12.7941\n",
            "Epoch 23/100\n",
            "2/2 [==============================] - 0s 4ms/step - loss: 15.0232 - mae: 15.0232\n",
            "Epoch 24/100\n",
            "2/2 [==============================] - 0s 4ms/step - loss: 15.4158 - mae: 15.4158\n",
            "Epoch 25/100\n",
            "2/2 [==============================] - 0s 4ms/step - loss: 14.0049 - mae: 14.0049\n",
            "Epoch 26/100\n",
            "2/2 [==============================] - 0s 3ms/step - loss: 20.3367 - mae: 20.3367\n",
            "Epoch 27/100\n",
            "2/2 [==============================] - 0s 3ms/step - loss: 11.6472 - mae: 11.6472\n",
            "Epoch 28/100\n",
            "2/2 [==============================] - 0s 3ms/step - loss: 30.4176 - mae: 30.4176\n",
            "Epoch 29/100\n",
            "2/2 [==============================] - 0s 4ms/step - loss: 9.1966 - mae: 9.1966\n",
            "Epoch 30/100\n",
            "2/2 [==============================] - 0s 3ms/step - loss: 31.9349 - mae: 31.9349\n",
            "Epoch 31/100\n",
            "2/2 [==============================] - 0s 4ms/step - loss: 58.1652 - mae: 58.1652\n",
            "Epoch 32/100\n",
            "2/2 [==============================] - 0s 3ms/step - loss: 9.5376 - mae: 9.5376\n",
            "Epoch 33/100\n",
            "2/2 [==============================] - 0s 6ms/step - loss: 12.1845 - mae: 12.1845\n",
            "Epoch 34/100\n",
            "2/2 [==============================] - 0s 3ms/step - loss: 24.5685 - mae: 24.5685\n",
            "Epoch 35/100\n",
            "2/2 [==============================] - 0s 4ms/step - loss: 11.5548 - mae: 11.5548\n",
            "Epoch 36/100\n",
            "2/2 [==============================] - 0s 7ms/step - loss: 22.6218 - mae: 22.6218\n",
            "Epoch 37/100\n",
            "2/2 [==============================] - 0s 3ms/step - loss: 11.0027 - mae: 11.0027\n",
            "Epoch 38/100\n",
            "2/2 [==============================] - 0s 10ms/step - loss: 13.5250 - mae: 13.5250\n",
            "Epoch 39/100\n",
            "2/2 [==============================] - 0s 8ms/step - loss: 10.9190 - mae: 10.9190\n",
            "Epoch 40/100\n",
            "2/2 [==============================] - 0s 3ms/step - loss: 16.3505 - mae: 16.3505\n",
            "Epoch 41/100\n",
            "2/2 [==============================] - 0s 4ms/step - loss: 9.9779 - mae: 9.9779\n",
            "Epoch 42/100\n",
            "2/2 [==============================] - 0s 3ms/step - loss: 8.7666 - mae: 8.7666\n",
            "Epoch 43/100\n",
            "2/2 [==============================] - 0s 5ms/step - loss: 9.2370 - mae: 9.2370\n",
            "Epoch 44/100\n",
            "2/2 [==============================] - 0s 3ms/step - loss: 29.1019 - mae: 29.1019\n",
            "Epoch 45/100\n",
            "2/2 [==============================] - 0s 4ms/step - loss: 11.0540 - mae: 11.0540\n",
            "Epoch 46/100\n",
            "2/2 [==============================] - 0s 5ms/step - loss: 14.2725 - mae: 14.2725\n",
            "Epoch 47/100\n",
            "2/2 [==============================] - 0s 4ms/step - loss: 13.2563 - mae: 13.2563\n",
            "Epoch 48/100\n",
            "2/2 [==============================] - 0s 4ms/step - loss: 17.9832 - mae: 17.9832\n",
            "Epoch 49/100\n",
            "2/2 [==============================] - 0s 9ms/step - loss: 9.4848 - mae: 9.4848\n",
            "Epoch 50/100\n",
            "2/2 [==============================] - 0s 4ms/step - loss: 13.6692 - mae: 13.6692\n",
            "Epoch 51/100\n",
            "2/2 [==============================] - 0s 2ms/step - loss: 11.2446 - mae: 11.2446\n",
            "Epoch 52/100\n",
            "2/2 [==============================] - 0s 6ms/step - loss: 31.8073 - mae: 31.8073\n",
            "Epoch 53/100\n",
            "2/2 [==============================] - 0s 3ms/step - loss: 13.6397 - mae: 13.6397\n",
            "Epoch 54/100\n",
            "2/2 [==============================] - 0s 3ms/step - loss: 27.2443 - mae: 27.2443\n",
            "Epoch 55/100\n",
            "2/2 [==============================] - 0s 3ms/step - loss: 26.7138 - mae: 26.7138\n",
            "Epoch 56/100\n",
            "2/2 [==============================] - 0s 9ms/step - loss: 10.4464 - mae: 10.4464\n",
            "Epoch 57/100\n",
            "2/2 [==============================] - 0s 12ms/step - loss: 12.9866 - mae: 12.9866\n",
            "Epoch 58/100\n",
            "2/2 [==============================] - 0s 8ms/step - loss: 9.7887 - mae: 9.7887\n",
            "Epoch 59/100\n",
            "2/2 [==============================] - 0s 5ms/step - loss: 13.4902 - mae: 13.4902\n",
            "Epoch 60/100\n",
            "2/2 [==============================] - 0s 3ms/step - loss: 10.8523 - mae: 10.8523\n",
            "Epoch 61/100\n",
            "2/2 [==============================] - 0s 4ms/step - loss: 13.4220 - mae: 13.4220\n",
            "Epoch 62/100\n",
            "2/2 [==============================] - 0s 6ms/step - loss: 17.8431 - mae: 17.8431\n",
            "Epoch 63/100\n",
            "2/2 [==============================] - 0s 2ms/step - loss: 8.4303 - mae: 8.4303\n",
            "Epoch 64/100\n",
            "2/2 [==============================] - 0s 8ms/step - loss: 15.8669 - mae: 15.8669\n",
            "Epoch 65/100\n",
            "2/2 [==============================] - 0s 3ms/step - loss: 10.8842 - mae: 10.8842\n",
            "Epoch 66/100\n",
            "2/2 [==============================] - 0s 3ms/step - loss: 22.4017 - mae: 22.4017\n",
            "Epoch 67/100\n",
            "2/2 [==============================] - 0s 21ms/step - loss: 10.0991 - mae: 10.0991\n",
            "Epoch 68/100\n",
            "2/2 [==============================] - 0s 6ms/step - loss: 13.3646 - mae: 13.3646\n",
            "Epoch 69/100\n",
            "2/2 [==============================] - 0s 3ms/step - loss: 11.4516 - mae: 11.4516\n",
            "Epoch 70/100\n",
            "2/2 [==============================] - 0s 3ms/step - loss: 13.4045 - mae: 13.4045\n",
            "Epoch 71/100\n",
            "2/2 [==============================] - 0s 4ms/step - loss: 15.2406 - mae: 15.2406\n",
            "Epoch 72/100\n",
            "2/2 [==============================] - 0s 4ms/step - loss: 11.6152 - mae: 11.6152\n",
            "Epoch 73/100\n",
            "2/2 [==============================] - 0s 5ms/step - loss: 16.0014 - mae: 16.0014\n",
            "Epoch 74/100\n",
            "2/2 [==============================] - 0s 5ms/step - loss: 24.7200 - mae: 24.7200\n",
            "Epoch 75/100\n",
            "2/2 [==============================] - 0s 5ms/step - loss: 8.8088 - mae: 8.8088\n",
            "Epoch 76/100\n",
            "2/2 [==============================] - 0s 3ms/step - loss: 12.0321 - mae: 12.0321\n",
            "Epoch 77/100\n",
            "2/2 [==============================] - 0s 3ms/step - loss: 16.7166 - mae: 16.7166\n",
            "Epoch 78/100\n",
            "2/2 [==============================] - 0s 4ms/step - loss: 9.3104 - mae: 9.3104\n",
            "Epoch 79/100\n",
            "2/2 [==============================] - 0s 5ms/step - loss: 24.5281 - mae: 24.5281\n",
            "Epoch 80/100\n",
            "2/2 [==============================] - 0s 2ms/step - loss: 27.5199 - mae: 27.5199\n",
            "Epoch 81/100\n",
            "2/2 [==============================] - 0s 4ms/step - loss: 11.7673 - mae: 11.7673\n",
            "Epoch 82/100\n",
            "2/2 [==============================] - 0s 11ms/step - loss: 11.6598 - mae: 11.6598\n",
            "Epoch 83/100\n",
            "2/2 [==============================] - 0s 7ms/step - loss: 17.8867 - mae: 17.8867\n",
            "Epoch 84/100\n",
            "2/2 [==============================] - 0s 2ms/step - loss: 7.0490 - mae: 7.0490\n",
            "Epoch 85/100\n",
            "2/2 [==============================] - 0s 4ms/step - loss: 15.1471 - mae: 15.1471\n",
            "Epoch 86/100\n",
            "2/2 [==============================] - 0s 3ms/step - loss: 15.1523 - mae: 15.1523\n",
            "Epoch 87/100\n",
            "2/2 [==============================] - 0s 3ms/step - loss: 19.8577 - mae: 19.8577\n",
            "Epoch 88/100\n",
            "2/2 [==============================] - 0s 4ms/step - loss: 30.8033 - mae: 30.8033\n",
            "Epoch 89/100\n",
            "2/2 [==============================] - 0s 4ms/step - loss: 9.7309 - mae: 9.7309\n",
            "Epoch 90/100\n",
            "2/2 [==============================] - 0s 11ms/step - loss: 21.5771 - mae: 21.5771\n",
            "Epoch 91/100\n",
            "2/2 [==============================] - 0s 5ms/step - loss: 9.6058 - mae: 9.6058\n",
            "Epoch 92/100\n",
            "2/2 [==============================] - 0s 5ms/step - loss: 18.2329 - mae: 18.2329\n",
            "Epoch 93/100\n",
            "2/2 [==============================] - 0s 3ms/step - loss: 7.2112 - mae: 7.2112\n",
            "Epoch 94/100\n",
            "2/2 [==============================] - 0s 3ms/step - loss: 17.4360 - mae: 17.4360\n",
            "Epoch 95/100\n",
            "2/2 [==============================] - 0s 3ms/step - loss: 11.1896 - mae: 11.1896\n",
            "Epoch 96/100\n",
            "2/2 [==============================] - 0s 3ms/step - loss: 18.9276 - mae: 18.9276\n",
            "Epoch 97/100\n",
            "2/2 [==============================] - 0s 6ms/step - loss: 12.2155 - mae: 12.2155\n",
            "Epoch 98/100\n",
            "2/2 [==============================] - 0s 3ms/step - loss: 11.3058 - mae: 11.3058\n",
            "Epoch 99/100\n",
            "2/2 [==============================] - 0s 3ms/step - loss: 13.4578 - mae: 13.4578\n",
            "Epoch 100/100\n",
            "2/2 [==============================] - 0s 3ms/step - loss: 20.1603 - mae: 20.1603\n"
          ],
          "name": "stdout"
        },
        {
          "output_type": "execute_result",
          "data": {
            "text/plain": [
              "<tensorflow.python.keras.callbacks.History at 0x7fe7c7d22050>"
            ]
          },
          "metadata": {
            "tags": []
          },
          "execution_count": 48
        }
      ]
    },
    {
      "cell_type": "code",
      "metadata": {
        "colab": {
          "base_uri": "https://localhost:8080/",
          "height": 467
        },
        "id": "M-KZA9yeUTMz",
        "outputId": "b96446e3-f166-4b93-ba68-fe03147d2bf8"
      },
      "source": [
        "y_pred_2 = model_2.predict(X_test)\n",
        "\n",
        "plot_predictions(predictions=y_pred_2)"
      ],
      "execution_count": null,
      "outputs": [
        {
          "output_type": "stream",
          "text": [
            "WARNING:tensorflow:8 out of the last 8 calls to <function Model.make_predict_function.<locals>.predict_function at 0x7fe7c7ca28c0> triggered tf.function retracing. Tracing is expensive and the excessive number of tracings could be due to (1) creating @tf.function repeatedly in a loop, (2) passing tensors with different shapes, (3) passing Python objects instead of tensors. For (1), please define your @tf.function outside of the loop. For (2), @tf.function has experimental_relax_shapes=True option that relaxes argument shapes that can avoid unnecessary retracing. For (3), please refer to https://www.tensorflow.org/guide/function#controlling_retracing and https://www.tensorflow.org/api_docs/python/tf/function for  more details.\n"
          ],
          "name": "stdout"
        },
        {
          "output_type": "display_data",
          "data": {
            "image/png": "[encoded data removed]",
            "text/plain": [
              "<Figure size 720x504 with 1 Axes>"
            ]
          },
          "metadata": {
            "tags": [],
            "needs_background": "light"
          }
        }
      ]
    },
    {
      "cell_type": "code",
      "metadata": {
        "colab": {
          "base_uri": "https://localhost:8080/"
        },
        "id": "QSN566psUnmA",
        "outputId": "e69e6240-2116-44aa-f639-e73726869298"
      },
      "source": [
        "mae_2 = mae(y_test,y_pred_2)\n",
        "mse_2 = mse(y_test,y_pred_2)\n",
        "mae_2,mse_2"
      ],
      "execution_count": null,
      "outputs": [
        {
          "output_type": "execute_result",
          "data": {
            "text/plain": [
              "(<tf.Tensor: shape=(), dtype=float32, numpy=3.1109948>,\n",
              " <tf.Tensor: shape=(), dtype=float32, numpy=12.497052>)"
            ]
          },
          "metadata": {
            "tags": []
          },
          "execution_count": 50
        }
      ]
    },
    {
      "cell_type": "code",
      "metadata": {
        "colab": {
          "base_uri": "https://localhost:8080/"
        },
        "id": "2tzO9_XQU75l",
        "outputId": "656e6227-483b-4864-d8f3-4012e9471cd5"
      },
      "source": [
        "# Build third Model\n",
        "\n",
        "model_3 = tf.keras.Sequential([\n",
        "                               tf.keras.layers.Dense(100),\n",
        "                               tf.keras.layers.Dense(1)\n",
        "])\n",
        "\n",
        "model_3.compile(loss = tf.keras.losses.MAE,\n",
        "                optimizer=tf.keras.optimizers.SGD(),\n",
        "                metrics=[\"mae\"])\n",
        "model_3.fit(X_train,y_train,epochs=500)"
      ],
      "execution_count": null,
      "outputs": [
        {
          "output_type": "stream",
          "text": [
            "Epoch 1/500\n",
            "2/2 [==============================] - 0s 7ms/step - loss: 41.4177 - mae: 41.4177\n",
            "Epoch 2/500\n",
            "2/2 [==============================] - 0s 3ms/step - loss: 32.0698 - mae: 32.0698\n",
            "Epoch 3/500\n",
            "2/2 [==============================] - 0s 5ms/step - loss: 30.0433 - mae: 30.0433\n",
            "Epoch 4/500\n",
            "2/2 [==============================] - 0s 2ms/step - loss: 15.2807 - mae: 15.2807\n",
            "Epoch 5/500\n",
            "2/2 [==============================] - 0s 3ms/step - loss: 22.8485 - mae: 22.8485\n",
            "Epoch 6/500\n",
            "2/2 [==============================] - 0s 6ms/step - loss: 11.1903 - mae: 11.1903\n",
            "Epoch 7/500\n",
            "2/2 [==============================] - 0s 3ms/step - loss: 12.4170 - mae: 12.4170\n",
            "Epoch 8/500\n",
            "2/2 [==============================] - 0s 3ms/step - loss: 11.1360 - mae: 11.1360\n",
            "Epoch 9/500\n",
            "2/2 [==============================] - 0s 3ms/step - loss: 40.6650 - mae: 40.6650\n",
            "Epoch 10/500\n",
            "2/2 [==============================] - 0s 4ms/step - loss: 26.8762 - mae: 26.8762\n",
            "Epoch 11/500\n",
            "2/2 [==============================] - 0s 3ms/step - loss: 10.8579 - mae: 10.8579\n",
            "Epoch 12/500\n",
            "2/2 [==============================] - 0s 6ms/step - loss: 24.3607 - mae: 24.3607\n",
            "Epoch 13/500\n",
            "2/2 [==============================] - 0s 6ms/step - loss: 21.1403 - mae: 21.1403\n",
            "Epoch 14/500\n",
            "2/2 [==============================] - 0s 6ms/step - loss: 24.0077 - mae: 24.0077\n",
            "Epoch 15/500\n",
            "2/2 [==============================] - 0s 4ms/step - loss: 15.4372 - mae: 15.4372\n",
            "Epoch 16/500\n",
            "2/2 [==============================] - 0s 3ms/step - loss: 10.1251 - mae: 10.1251\n",
            "Epoch 17/500\n",
            "2/2 [==============================] - 0s 4ms/step - loss: 19.3247 - mae: 19.3247\n",
            "Epoch 18/500\n",
            "2/2 [==============================] - 0s 3ms/step - loss: 13.4623 - mae: 13.4623\n",
            "Epoch 19/500\n",
            "2/2 [==============================] - 0s 3ms/step - loss: 16.2675 - mae: 16.2675\n",
            "Epoch 20/500\n",
            "2/2 [==============================] - 0s 3ms/step - loss: 9.4030 - mae: 9.4030\n",
            "Epoch 21/500\n",
            "2/2 [==============================] - 0s 3ms/step - loss: 13.6541 - mae: 13.6541\n",
            "Epoch 22/500\n",
            "2/2 [==============================] - 0s 3ms/step - loss: 22.1868 - mae: 22.1868\n",
            "Epoch 23/500\n",
            "2/2 [==============================] - 0s 4ms/step - loss: 9.7451 - mae: 9.7451\n",
            "Epoch 24/500\n",
            "2/2 [==============================] - 0s 5ms/step - loss: 16.0428 - mae: 16.0428\n",
            "Epoch 25/500\n",
            "2/2 [==============================] - 0s 3ms/step - loss: 14.6739 - mae: 14.6739\n",
            "Epoch 26/500\n",
            "2/2 [==============================] - 0s 3ms/step - loss: 20.5424 - mae: 20.5424\n",
            "Epoch 27/500\n",
            "2/2 [==============================] - 0s 4ms/step - loss: 20.6466 - mae: 20.6466\n",
            "Epoch 28/500\n",
            "2/2 [==============================] - 0s 3ms/step - loss: 14.9740 - mae: 14.9740\n",
            "Epoch 29/500\n",
            "2/2 [==============================] - 0s 4ms/step - loss: 9.2430 - mae: 9.2430\n",
            "Epoch 30/500\n",
            "2/2 [==============================] - 0s 3ms/step - loss: 32.3928 - mae: 32.3928\n",
            "Epoch 31/500\n",
            "2/2 [==============================] - 0s 3ms/step - loss: 58.9830 - mae: 58.9830\n",
            "Epoch 32/500\n",
            "2/2 [==============================] - 0s 3ms/step - loss: 9.6587 - mae: 9.6587\n",
            "Epoch 33/500\n",
            "2/2 [==============================] - 0s 5ms/step - loss: 12.3289 - mae: 12.3289\n",
            "Epoch 34/500\n",
            "2/2 [==============================] - 0s 3ms/step - loss: 25.0500 - mae: 25.0500\n",
            "Epoch 35/500\n",
            "2/2 [==============================] - 0s 3ms/step - loss: 11.0606 - mae: 11.0606\n",
            "Epoch 36/500\n",
            "2/2 [==============================] - 0s 6ms/step - loss: 23.3496 - mae: 23.3496\n",
            "Epoch 37/500\n",
            "2/2 [==============================] - 0s 4ms/step - loss: 17.2337 - mae: 17.2337\n",
            "Epoch 38/500\n",
            "2/2 [==============================] - 0s 3ms/step - loss: 10.7048 - mae: 10.7048\n",
            "Epoch 39/500\n",
            "2/2 [==============================] - 0s 4ms/step - loss: 11.3923 - mae: 11.3923\n",
            "Epoch 40/500\n",
            "2/2 [==============================] - 0s 6ms/step - loss: 17.7539 - mae: 17.7539\n",
            "Epoch 41/500\n",
            "2/2 [==============================] - 0s 6ms/step - loss: 9.2873 - mae: 9.2873\n",
            "Epoch 42/500\n",
            "2/2 [==============================] - 0s 3ms/step - loss: 7.2232 - mae: 7.2232\n",
            "Epoch 43/500\n",
            "2/2 [==============================] - 0s 4ms/step - loss: 18.8554 - mae: 18.8554\n",
            "Epoch 44/500\n",
            "2/2 [==============================] - 0s 5ms/step - loss: 20.3537 - mae: 20.3537\n",
            "Epoch 45/500\n",
            "2/2 [==============================] - 0s 3ms/step - loss: 9.6081 - mae: 9.6081\n",
            "Epoch 46/500\n",
            "2/2 [==============================] - 0s 4ms/step - loss: 11.5572 - mae: 11.5572\n",
            "Epoch 47/500\n",
            "2/2 [==============================] - 0s 2ms/step - loss: 9.3458 - mae: 9.3458\n",
            "Epoch 48/500\n",
            "2/2 [==============================] - 0s 3ms/step - loss: 18.3034 - mae: 18.3034\n",
            "Epoch 49/500\n",
            "2/2 [==============================] - 0s 4ms/step - loss: 9.2420 - mae: 9.2420\n",
            "Epoch 50/500\n",
            "2/2 [==============================] - 0s 7ms/step - loss: 13.2649 - mae: 13.2649\n",
            "Epoch 51/500\n",
            "2/2 [==============================] - 0s 3ms/step - loss: 11.0429 - mae: 11.0429\n",
            "Epoch 52/500\n",
            "2/2 [==============================] - 0s 7ms/step - loss: 30.8276 - mae: 30.8276\n",
            "Epoch 53/500\n",
            "2/2 [==============================] - 0s 3ms/step - loss: 16.5391 - mae: 16.5391\n",
            "Epoch 54/500\n",
            "2/2 [==============================] - 0s 3ms/step - loss: 21.8724 - mae: 21.8724\n",
            "Epoch 55/500\n",
            "2/2 [==============================] - 0s 5ms/step - loss: 22.4923 - mae: 22.4923\n",
            "Epoch 56/500\n",
            "2/2 [==============================] - 0s 6ms/step - loss: 10.4333 - mae: 10.4333\n",
            "Epoch 57/500\n",
            "2/2 [==============================] - 0s 3ms/step - loss: 12.9680 - mae: 12.9680\n",
            "Epoch 58/500\n",
            "2/2 [==============================] - 0s 5ms/step - loss: 9.7785 - mae: 9.7785\n",
            "Epoch 59/500\n",
            "2/2 [==============================] - 0s 4ms/step - loss: 13.4671 - mae: 13.4671\n",
            "Epoch 60/500\n",
            "2/2 [==============================] - 0s 3ms/step - loss: 10.8396 - mae: 10.8396\n",
            "Epoch 61/500\n",
            "2/2 [==============================] - 0s 3ms/step - loss: 13.4012 - mae: 13.4012\n",
            "Epoch 62/500\n",
            "2/2 [==============================] - 0s 9ms/step - loss: 17.6499 - mae: 17.6499\n",
            "Epoch 63/500\n",
            "2/2 [==============================] - 0s 3ms/step - loss: 9.0506 - mae: 9.0506\n",
            "Epoch 64/500\n",
            "2/2 [==============================] - 0s 3ms/step - loss: 18.2871 - mae: 18.2871\n",
            "Epoch 65/500\n",
            "2/2 [==============================] - 0s 5ms/step - loss: 10.0943 - mae: 10.0943\n",
            "Epoch 66/500\n",
            "2/2 [==============================] - 0s 5ms/step - loss: 24.8488 - mae: 24.8488\n",
            "Epoch 67/500\n",
            "2/2 [==============================] - 0s 3ms/step - loss: 10.9126 - mae: 10.9126\n",
            "Epoch 68/500\n",
            "2/2 [==============================] - 0s 7ms/step - loss: 11.0594 - mae: 11.0594\n",
            "Epoch 69/500\n",
            "2/2 [==============================] - 0s 3ms/step - loss: 23.8108 - mae: 23.8108\n",
            "Epoch 70/500\n",
            "2/2 [==============================] - 0s 3ms/step - loss: 8.3045 - mae: 8.3045\n",
            "Epoch 71/500\n",
            "2/2 [==============================] - 0s 6ms/step - loss: 16.4972 - mae: 16.4972\n",
            "Epoch 72/500\n",
            "2/2 [==============================] - 0s 3ms/step - loss: 7.7650 - mae: 7.7650\n",
            "Epoch 73/500\n",
            "2/2 [==============================] - 0s 4ms/step - loss: 8.9441 - mae: 8.9441\n",
            "Epoch 74/500\n",
            "2/2 [==============================] - 0s 6ms/step - loss: 29.1248 - mae: 29.1248\n",
            "Epoch 75/500\n",
            "2/2 [==============================] - 0s 3ms/step - loss: 9.5394 - mae: 9.5394\n",
            "Epoch 76/500\n",
            "2/2 [==============================] - 0s 8ms/step - loss: 12.8868 - mae: 12.8868\n",
            "Epoch 77/500\n",
            "2/2 [==============================] - 0s 3ms/step - loss: 18.5544 - mae: 18.5544\n",
            "Epoch 78/500\n",
            "2/2 [==============================] - 0s 3ms/step - loss: 9.2172 - mae: 9.2172\n",
            "Epoch 79/500\n",
            "2/2 [==============================] - 0s 4ms/step - loss: 23.8836 - mae: 23.8836\n",
            "Epoch 80/500\n",
            "2/2 [==============================] - 0s 5ms/step - loss: 26.7682 - mae: 26.7682\n",
            "Epoch 81/500\n",
            "2/2 [==============================] - 0s 4ms/step - loss: 11.4329 - mae: 11.4329\n",
            "Epoch 82/500\n",
            "2/2 [==============================] - 0s 9ms/step - loss: 12.1210 - mae: 12.1210\n",
            "Epoch 83/500\n",
            "2/2 [==============================] - 0s 8ms/step - loss: 17.6166 - mae: 17.6166\n",
            "Epoch 84/500\n",
            "2/2 [==============================] - 0s 8ms/step - loss: 6.5930 - mae: 6.5930\n",
            "Epoch 85/500\n",
            "2/2 [==============================] - 0s 7ms/step - loss: 20.1787 - mae: 20.1787\n",
            "Epoch 86/500\n",
            "2/2 [==============================] - 0s 7ms/step - loss: 10.1252 - mae: 10.1252\n",
            "Epoch 87/500\n",
            "2/2 [==============================] - 0s 4ms/step - loss: 24.4760 - mae: 24.4760\n",
            "Epoch 88/500\n",
            "2/2 [==============================] - 0s 9ms/step - loss: 18.8241 - mae: 18.8241\n",
            "Epoch 89/500\n",
            "2/2 [==============================] - 0s 7ms/step - loss: 7.0537 - mae: 7.0537\n",
            "Epoch 90/500\n",
            "2/2 [==============================] - 0s 9ms/step - loss: 19.1600 - mae: 19.1600\n",
            "Epoch 91/500\n",
            "2/2 [==============================] - 0s 9ms/step - loss: 13.4889 - mae: 13.4889\n",
            "Epoch 92/500\n",
            "2/2 [==============================] - 0s 4ms/step - loss: 8.3400 - mae: 8.3400\n",
            "Epoch 93/500\n",
            "2/2 [==============================] - 0s 3ms/step - loss: 13.6691 - mae: 13.6691\n",
            "Epoch 94/500\n",
            "2/2 [==============================] - 0s 4ms/step - loss: 17.9720 - mae: 17.9720\n",
            "Epoch 95/500\n",
            "2/2 [==============================] - 0s 11ms/step - loss: 17.2698 - mae: 17.2698\n",
            "Epoch 96/500\n",
            "2/2 [==============================] - 0s 5ms/step - loss: 10.7030 - mae: 10.7030\n",
            "Epoch 97/500\n",
            "2/2 [==============================] - 0s 6ms/step - loss: 22.2935 - mae: 22.2935\n",
            "Epoch 98/500\n",
            "2/2 [==============================] - 0s 4ms/step - loss: 9.9857 - mae: 9.9857\n",
            "Epoch 99/500\n",
            "2/2 [==============================] - 0s 4ms/step - loss: 14.0693 - mae: 14.0693\n",
            "Epoch 100/500\n",
            "2/2 [==============================] - 0s 6ms/step - loss: 17.4768 - mae: 17.4768\n",
            "Epoch 101/500\n",
            "2/2 [==============================] - 0s 7ms/step - loss: 11.2320 - mae: 11.2320\n",
            "Epoch 102/500\n",
            "2/2 [==============================] - 0s 8ms/step - loss: 16.5695 - mae: 16.5695\n",
            "Epoch 103/500\n",
            "2/2 [==============================] - 0s 17ms/step - loss: 7.4946 - mae: 7.4946\n",
            "Epoch 104/500\n",
            "2/2 [==============================] - 0s 12ms/step - loss: 23.1874 - mae: 23.1874\n",
            "Epoch 105/500\n",
            "2/2 [==============================] - 0s 3ms/step - loss: 20.3937 - mae: 20.3937\n",
            "Epoch 106/500\n",
            "2/2 [==============================] - 0s 5ms/step - loss: 9.2489 - mae: 9.2489\n",
            "Epoch 107/500\n",
            "2/2 [==============================] - 0s 4ms/step - loss: 26.0253 - mae: 26.0253\n",
            "Epoch 108/500\n",
            "2/2 [==============================] - 0s 5ms/step - loss: 14.6432 - mae: 14.6432\n",
            "Epoch 109/500\n",
            "2/2 [==============================] - 0s 3ms/step - loss: 8.4973 - mae: 8.4973\n",
            "Epoch 110/500\n",
            "2/2 [==============================] - 0s 3ms/step - loss: 8.3853 - mae: 8.3853\n",
            "Epoch 111/500\n",
            "2/2 [==============================] - 0s 3ms/step - loss: 12.4859 - mae: 12.4859\n",
            "Epoch 112/500\n",
            "2/2 [==============================] - 0s 7ms/step - loss: 15.4963 - mae: 15.4963\n",
            "Epoch 113/500\n",
            "2/2 [==============================] - 0s 3ms/step - loss: 11.0700 - mae: 11.0700\n",
            "Epoch 114/500\n",
            "2/2 [==============================] - 0s 6ms/step - loss: 25.5009 - mae: 25.5009\n",
            "Epoch 115/500\n",
            "2/2 [==============================] - 0s 3ms/step - loss: 13.0074 - mae: 13.0074\n",
            "Epoch 116/500\n",
            "2/2 [==============================] - 0s 4ms/step - loss: 13.9269 - mae: 13.9269\n",
            "Epoch 117/500\n",
            "2/2 [==============================] - 0s 5ms/step - loss: 9.2627 - mae: 9.2627\n",
            "Epoch 118/500\n",
            "2/2 [==============================] - 0s 4ms/step - loss: 10.7685 - mae: 10.7685\n",
            "Epoch 119/500\n",
            "2/2 [==============================] - 0s 6ms/step - loss: 8.4948 - mae: 8.4948\n",
            "Epoch 120/500\n",
            "2/2 [==============================] - 0s 3ms/step - loss: 31.9654 - mae: 31.9654\n",
            "Epoch 121/500\n",
            "2/2 [==============================] - 0s 5ms/step - loss: 8.3101 - mae: 8.3101\n",
            "Epoch 122/500\n",
            "2/2 [==============================] - 0s 4ms/step - loss: 30.4631 - mae: 30.4631\n",
            "Epoch 123/500\n",
            "2/2 [==============================] - 0s 7ms/step - loss: 35.4455 - mae: 35.4455\n",
            "Epoch 124/500\n",
            "2/2 [==============================] - 0s 3ms/step - loss: 20.6012 - mae: 20.6012\n",
            "Epoch 125/500\n",
            "2/2 [==============================] - 0s 4ms/step - loss: 8.1118 - mae: 8.1118\n",
            "Epoch 126/500\n",
            "2/2 [==============================] - 0s 3ms/step - loss: 8.5603 - mae: 8.5603\n",
            "Epoch 127/500\n",
            "2/2 [==============================] - 0s 5ms/step - loss: 11.2831 - mae: 11.2831\n",
            "Epoch 128/500\n",
            "2/2 [==============================] - 0s 14ms/step - loss: 16.8342 - mae: 16.8342\n",
            "Epoch 129/500\n",
            "2/2 [==============================] - 0s 5ms/step - loss: 9.3228 - mae: 9.3228\n",
            "Epoch 130/500\n",
            "2/2 [==============================] - 0s 5ms/step - loss: 23.9658 - mae: 23.9658\n",
            "Epoch 131/500\n",
            "2/2 [==============================] - 0s 7ms/step - loss: 9.8848 - mae: 9.8848\n",
            "Epoch 132/500\n",
            "2/2 [==============================] - 0s 4ms/step - loss: 18.0995 - mae: 18.0995\n",
            "Epoch 133/500\n",
            "2/2 [==============================] - 0s 5ms/step - loss: 6.7028 - mae: 6.7028\n",
            "Epoch 134/500\n",
            "2/2 [==============================] - 0s 6ms/step - loss: 20.2429 - mae: 20.2429\n",
            "Epoch 135/500\n",
            "2/2 [==============================] - 0s 2ms/step - loss: 9.7216 - mae: 9.7216\n",
            "Epoch 136/500\n",
            "2/2 [==============================] - 0s 3ms/step - loss: 17.7362 - mae: 17.7362\n",
            "Epoch 137/500\n",
            "2/2 [==============================] - 0s 4ms/step - loss: 22.8269 - mae: 22.8269\n",
            "Epoch 138/500\n",
            "2/2 [==============================] - 0s 5ms/step - loss: 8.1570 - mae: 8.1570\n",
            "Epoch 139/500\n",
            "2/2 [==============================] - 0s 6ms/step - loss: 7.9845 - mae: 7.9845\n",
            "Epoch 140/500\n",
            "2/2 [==============================] - 0s 4ms/step - loss: 15.8161 - mae: 15.8161\n",
            "Epoch 141/500\n",
            "2/2 [==============================] - 0s 4ms/step - loss: 8.6498 - mae: 8.6498\n",
            "Epoch 142/500\n",
            "2/2 [==============================] - 0s 6ms/step - loss: 38.8752 - mae: 38.8752\n",
            "Epoch 143/500\n",
            "2/2 [==============================] - 0s 3ms/step - loss: 25.7083 - mae: 25.7083\n",
            "Epoch 144/500\n",
            "2/2 [==============================] - 0s 6ms/step - loss: 9.2721 - mae: 9.2721\n",
            "Epoch 145/500\n",
            "2/2 [==============================] - 0s 7ms/step - loss: 26.9530 - mae: 26.9530\n",
            "Epoch 146/500\n",
            "2/2 [==============================] - 0s 3ms/step - loss: 9.7989 - mae: 9.7989\n",
            "Epoch 147/500\n",
            "2/2 [==============================] - 0s 10ms/step - loss: 13.8988 - mae: 13.8988\n",
            "Epoch 148/500\n",
            "2/2 [==============================] - 0s 4ms/step - loss: 18.5996 - mae: 18.5996\n",
            "Epoch 149/500\n",
            "2/2 [==============================] - 0s 11ms/step - loss: 7.8682 - mae: 7.8682\n",
            "Epoch 150/500\n",
            "2/2 [==============================] - 0s 3ms/step - loss: 7.6064 - mae: 7.6064\n",
            "Epoch 151/500\n",
            "2/2 [==============================] - 0s 3ms/step - loss: 18.9456 - mae: 18.9456\n",
            "Epoch 152/500\n",
            "2/2 [==============================] - 0s 3ms/step - loss: 10.1933 - mae: 10.1933\n",
            "Epoch 153/500\n",
            "2/2 [==============================] - 0s 4ms/step - loss: 31.7940 - mae: 31.7940\n",
            "Epoch 154/500\n",
            "2/2 [==============================] - 0s 8ms/step - loss: 9.0973 - mae: 9.0973\n",
            "Epoch 155/500\n",
            "2/2 [==============================] - 0s 3ms/step - loss: 16.4089 - mae: 16.4089\n",
            "Epoch 156/500\n",
            "2/2 [==============================] - 0s 3ms/step - loss: 18.5427 - mae: 18.5427\n",
            "Epoch 157/500\n",
            "2/2 [==============================] - 0s 3ms/step - loss: 32.9419 - mae: 32.9419\n",
            "Epoch 158/500\n",
            "2/2 [==============================] - 0s 4ms/step - loss: 9.8301 - mae: 9.8301\n",
            "Epoch 159/500\n",
            "2/2 [==============================] - 0s 2ms/step - loss: 8.2752 - mae: 8.2752\n",
            "Epoch 160/500\n",
            "2/2 [==============================] - 0s 2ms/step - loss: 21.0232 - mae: 21.0232\n",
            "Epoch 161/500\n",
            "2/2 [==============================] - 0s 3ms/step - loss: 11.8710 - mae: 11.8710\n",
            "Epoch 162/500\n",
            "2/2 [==============================] - 0s 4ms/step - loss: 18.6113 - mae: 18.6113\n",
            "Epoch 163/500\n",
            "2/2 [==============================] - 0s 5ms/step - loss: 17.4289 - mae: 17.4289\n",
            "Epoch 164/500\n",
            "2/2 [==============================] - 0s 7ms/step - loss: 11.3412 - mae: 11.3412\n",
            "Epoch 165/500\n",
            "2/2 [==============================] - 0s 3ms/step - loss: 10.8247 - mae: 10.8247\n",
            "Epoch 166/500\n",
            "2/2 [==============================] - 0s 4ms/step - loss: 22.4139 - mae: 22.4139\n",
            "Epoch 167/500\n",
            "2/2 [==============================] - 0s 3ms/step - loss: 27.7092 - mae: 27.7092\n",
            "Epoch 168/500\n",
            "2/2 [==============================] - 0s 5ms/step - loss: 9.4883 - mae: 9.4883\n",
            "Epoch 169/500\n",
            "2/2 [==============================] - 0s 6ms/step - loss: 23.8613 - mae: 23.8613\n",
            "Epoch 170/500\n",
            "2/2 [==============================] - 0s 3ms/step - loss: 8.8352 - mae: 8.8352\n",
            "Epoch 171/500\n",
            "2/2 [==============================] - 0s 5ms/step - loss: 16.5574 - mae: 16.5574\n",
            "Epoch 172/500\n",
            "2/2 [==============================] - 0s 5ms/step - loss: 13.0839 - mae: 13.0839\n",
            "Epoch 173/500\n",
            "2/2 [==============================] - 0s 3ms/step - loss: 23.8198 - mae: 23.8198\n",
            "Epoch 174/500\n",
            "2/2 [==============================] - 0s 3ms/step - loss: 10.8981 - mae: 10.8981\n",
            "Epoch 175/500\n",
            "2/2 [==============================] - 0s 4ms/step - loss: 20.5437 - mae: 20.5437\n",
            "Epoch 176/500\n",
            "2/2 [==============================] - 0s 4ms/step - loss: 7.1092 - mae: 7.1092\n",
            "Epoch 177/500\n",
            "2/2 [==============================] - 0s 3ms/step - loss: 8.0506 - mae: 8.0506\n",
            "Epoch 178/500\n",
            "2/2 [==============================] - 0s 3ms/step - loss: 15.1055 - mae: 15.1055\n",
            "Epoch 179/500\n",
            "2/2 [==============================] - 0s 2ms/step - loss: 8.9215 - mae: 8.9215\n",
            "Epoch 180/500\n",
            "2/2 [==============================] - 0s 3ms/step - loss: 7.6128 - mae: 7.6128\n",
            "Epoch 181/500\n",
            "2/2 [==============================] - 0s 5ms/step - loss: 18.4657 - mae: 18.4657\n",
            "Epoch 182/500\n",
            "2/2 [==============================] - 0s 3ms/step - loss: 10.1436 - mae: 10.1436\n",
            "Epoch 183/500\n",
            "2/2 [==============================] - 0s 6ms/step - loss: 10.5116 - mae: 10.5116\n",
            "Epoch 184/500\n",
            "2/2 [==============================] - 0s 3ms/step - loss: 35.3774 - mae: 35.3774\n",
            "Epoch 185/500\n",
            "2/2 [==============================] - 0s 2ms/step - loss: 7.1055 - mae: 7.1055\n",
            "Epoch 186/500\n",
            "2/2 [==============================] - 0s 3ms/step - loss: 16.3863 - mae: 16.3863\n",
            "Epoch 187/500\n",
            "2/2 [==============================] - 0s 3ms/step - loss: 9.3084 - mae: 9.3084\n",
            "Epoch 188/500\n",
            "2/2 [==============================] - 0s 3ms/step - loss: 24.2119 - mae: 24.2119\n",
            "Epoch 189/500\n",
            "2/2 [==============================] - 0s 4ms/step - loss: 9.7762 - mae: 9.7762\n",
            "Epoch 190/500\n",
            "2/2 [==============================] - 0s 5ms/step - loss: 14.6999 - mae: 14.6999\n",
            "Epoch 191/500\n",
            "2/2 [==============================] - 0s 14ms/step - loss: 9.2457 - mae: 9.2457\n",
            "Epoch 192/500\n",
            "2/2 [==============================] - 0s 3ms/step - loss: 14.8457 - mae: 14.8457\n",
            "Epoch 193/500\n",
            "2/2 [==============================] - 0s 3ms/step - loss: 30.5336 - mae: 30.5336\n",
            "Epoch 194/500\n",
            "2/2 [==============================] - 0s 3ms/step - loss: 7.6334 - mae: 7.6334\n",
            "Epoch 195/500\n",
            "2/2 [==============================] - 0s 5ms/step - loss: 11.9803 - mae: 11.9803\n",
            "Epoch 196/500\n",
            "2/2 [==============================] - 0s 3ms/step - loss: 24.7088 - mae: 24.7088\n",
            "Epoch 197/500\n",
            "2/2 [==============================] - 0s 5ms/step - loss: 16.3435 - mae: 16.3435\n",
            "Epoch 198/500\n",
            "2/2 [==============================] - 0s 4ms/step - loss: 10.9655 - mae: 10.9655\n",
            "Epoch 199/500\n",
            "2/2 [==============================] - 0s 2ms/step - loss: 19.4012 - mae: 19.4012\n",
            "Epoch 200/500\n",
            "2/2 [==============================] - 0s 8ms/step - loss: 15.6210 - mae: 15.6210\n",
            "Epoch 201/500\n",
            "2/2 [==============================] - 0s 3ms/step - loss: 9.2571 - mae: 9.2571\n",
            "Epoch 202/500\n",
            "2/2 [==============================] - 0s 5ms/step - loss: 23.3594 - mae: 23.3594\n",
            "Epoch 203/500\n",
            "2/2 [==============================] - 0s 4ms/step - loss: 21.5363 - mae: 21.5363\n",
            "Epoch 204/500\n",
            "2/2 [==============================] - 0s 3ms/step - loss: 17.0736 - mae: 17.0736\n",
            "Epoch 205/500\n",
            "2/2 [==============================] - 0s 5ms/step - loss: 8.6977 - mae: 8.6977\n",
            "Epoch 206/500\n",
            "2/2 [==============================] - 0s 5ms/step - loss: 10.6409 - mae: 10.6409\n",
            "Epoch 207/500\n",
            "2/2 [==============================] - 0s 3ms/step - loss: 17.4323 - mae: 17.4323\n",
            "Epoch 208/500\n",
            "2/2 [==============================] - 0s 3ms/step - loss: 13.6111 - mae: 13.6111\n",
            "Epoch 209/500\n",
            "2/2 [==============================] - 0s 5ms/step - loss: 16.3099 - mae: 16.3099\n",
            "Epoch 210/500\n",
            "2/2 [==============================] - 0s 4ms/step - loss: 17.9878 - mae: 17.9878\n",
            "Epoch 211/500\n",
            "2/2 [==============================] - 0s 5ms/step - loss: 9.0098 - mae: 9.0098\n",
            "Epoch 212/500\n",
            "2/2 [==============================] - 0s 3ms/step - loss: 19.0192 - mae: 19.0192\n",
            "Epoch 213/500\n",
            "2/2 [==============================] - 0s 3ms/step - loss: 14.9449 - mae: 14.9449\n",
            "Epoch 214/500\n",
            "2/2 [==============================] - 0s 3ms/step - loss: 14.7201 - mae: 14.7201\n",
            "Epoch 215/500\n",
            "2/2 [==============================] - 0s 6ms/step - loss: 24.5545 - mae: 24.5545\n",
            "Epoch 216/500\n",
            "2/2 [==============================] - 0s 3ms/step - loss: 13.0487 - mae: 13.0487\n",
            "Epoch 217/500\n",
            "2/2 [==============================] - 0s 3ms/step - loss: 10.0032 - mae: 10.0032\n",
            "Epoch 218/500\n",
            "2/2 [==============================] - 0s 7ms/step - loss: 12.2588 - mae: 12.2588\n",
            "Epoch 219/500\n",
            "2/2 [==============================] - 0s 5ms/step - loss: 5.6597 - mae: 5.6597\n",
            "Epoch 220/500\n",
            "2/2 [==============================] - 0s 6ms/step - loss: 9.6997 - mae: 9.6997\n",
            "Epoch 221/500\n",
            "2/2 [==============================] - 0s 3ms/step - loss: 29.7947 - mae: 29.7947\n",
            "Epoch 222/500\n",
            "2/2 [==============================] - 0s 5ms/step - loss: 29.2833 - mae: 29.2833\n",
            "Epoch 223/500\n",
            "2/2 [==============================] - 0s 6ms/step - loss: 9.5546 - mae: 9.5546\n",
            "Epoch 224/500\n",
            "2/2 [==============================] - 0s 3ms/step - loss: 15.2679 - mae: 15.2679\n",
            "Epoch 225/500\n",
            "2/2 [==============================] - 0s 4ms/step - loss: 16.8634 - mae: 16.8634\n",
            "Epoch 226/500\n",
            "2/2 [==============================] - 0s 6ms/step - loss: 16.4168 - mae: 16.4168\n",
            "Epoch 227/500\n",
            "2/2 [==============================] - 0s 3ms/step - loss: 16.7031 - mae: 16.7031\n",
            "Epoch 228/500\n",
            "2/2 [==============================] - 0s 3ms/step - loss: 14.2760 - mae: 14.2760\n",
            "Epoch 229/500\n",
            "2/2 [==============================] - 0s 6ms/step - loss: 18.8680 - mae: 18.8680\n",
            "Epoch 230/500\n",
            "2/2 [==============================] - 0s 3ms/step - loss: 15.3105 - mae: 15.3105\n",
            "Epoch 231/500\n",
            "2/2 [==============================] - 0s 5ms/step - loss: 22.1930 - mae: 22.1930\n",
            "Epoch 232/500\n",
            "2/2 [==============================] - 0s 4ms/step - loss: 25.9232 - mae: 25.9232\n",
            "Epoch 233/500\n",
            "2/2 [==============================] - 0s 7ms/step - loss: 16.0451 - mae: 16.0451\n",
            "Epoch 234/500\n",
            "2/2 [==============================] - 0s 3ms/step - loss: 7.2167 - mae: 7.2167\n",
            "Epoch 235/500\n",
            "2/2 [==============================] - 0s 3ms/step - loss: 16.7232 - mae: 16.7232\n",
            "Epoch 236/500\n",
            "2/2 [==============================] - 0s 5ms/step - loss: 6.9447 - mae: 6.9447\n",
            "Epoch 237/500\n",
            "2/2 [==============================] - 0s 3ms/step - loss: 8.6159 - mae: 8.6159\n",
            "Epoch 238/500\n",
            "2/2 [==============================] - 0s 5ms/step - loss: 7.7084 - mae: 7.7084\n",
            "Epoch 239/500\n",
            "2/2 [==============================] - 0s 4ms/step - loss: 16.7958 - mae: 16.7958\n",
            "Epoch 240/500\n",
            "2/2 [==============================] - 0s 5ms/step - loss: 8.1997 - mae: 8.1997\n",
            "Epoch 241/500\n",
            "2/2 [==============================] - 0s 3ms/step - loss: 12.3141 - mae: 12.3141\n",
            "Epoch 242/500\n",
            "2/2 [==============================] - 0s 5ms/step - loss: 8.5027 - mae: 8.5027\n",
            "Epoch 243/500\n",
            "2/2 [==============================] - 0s 11ms/step - loss: 19.1352 - mae: 19.1352\n",
            "Epoch 244/500\n",
            "2/2 [==============================] - 0s 9ms/step - loss: 13.8803 - mae: 13.8803\n",
            "Epoch 245/500\n",
            "2/2 [==============================] - 0s 4ms/step - loss: 14.9670 - mae: 14.9670\n",
            "Epoch 246/500\n",
            "2/2 [==============================] - 0s 4ms/step - loss: 16.5229 - mae: 16.5229\n",
            "Epoch 247/500\n",
            "2/2 [==============================] - 0s 6ms/step - loss: 18.3697 - mae: 18.3697\n",
            "Epoch 248/500\n",
            "2/2 [==============================] - 0s 6ms/step - loss: 12.8038 - mae: 12.8038\n",
            "Epoch 249/500\n",
            "2/2 [==============================] - 0s 6ms/step - loss: 14.6792 - mae: 14.6792\n",
            "Epoch 250/500\n",
            "2/2 [==============================] - 0s 4ms/step - loss: 24.6716 - mae: 24.6716\n",
            "Epoch 251/500\n",
            "2/2 [==============================] - 0s 5ms/step - loss: 8.8630 - mae: 8.8630\n",
            "Epoch 252/500\n",
            "2/2 [==============================] - 0s 3ms/step - loss: 38.5307 - mae: 38.5307\n",
            "Epoch 253/500\n",
            "2/2 [==============================] - 0s 7ms/step - loss: 21.8228 - mae: 21.8228\n",
            "Epoch 254/500\n",
            "2/2 [==============================] - 0s 3ms/step - loss: 6.6852 - mae: 6.6852\n",
            "Epoch 255/500\n",
            "2/2 [==============================] - 0s 4ms/step - loss: 24.9527 - mae: 24.9527\n",
            "Epoch 256/500\n",
            "2/2 [==============================] - 0s 4ms/step - loss: 11.6008 - mae: 11.6008\n",
            "Epoch 257/500\n",
            "2/2 [==============================] - 0s 5ms/step - loss: 10.0710 - mae: 10.0710\n",
            "Epoch 258/500\n",
            "2/2 [==============================] - 0s 3ms/step - loss: 13.5960 - mae: 13.5960\n",
            "Epoch 259/500\n",
            "2/2 [==============================] - 0s 7ms/step - loss: 10.5515 - mae: 10.5515\n",
            "Epoch 260/500\n",
            "2/2 [==============================] - 0s 5ms/step - loss: 32.9794 - mae: 32.9794\n",
            "Epoch 261/500\n",
            "2/2 [==============================] - 0s 5ms/step - loss: 10.5913 - mae: 10.5913\n",
            "Epoch 262/500\n",
            "2/2 [==============================] - 0s 5ms/step - loss: 9.3656 - mae: 9.3656\n",
            "Epoch 263/500\n",
            "2/2 [==============================] - 0s 9ms/step - loss: 8.3869 - mae: 8.3869\n",
            "Epoch 264/500\n",
            "2/2 [==============================] - 0s 11ms/step - loss: 21.6763 - mae: 21.6763\n",
            "Epoch 265/500\n",
            "2/2 [==============================] - 0s 4ms/step - loss: 10.8934 - mae: 10.8934\n",
            "Epoch 266/500\n",
            "2/2 [==============================] - 0s 5ms/step - loss: 13.2236 - mae: 13.2236\n",
            "Epoch 267/500\n",
            "2/2 [==============================] - 0s 12ms/step - loss: 9.9593 - mae: 9.9593\n",
            "Epoch 268/500\n",
            "2/2 [==============================] - 0s 8ms/step - loss: 19.9183 - mae: 19.9183\n",
            "Epoch 269/500\n",
            "2/2 [==============================] - 0s 4ms/step - loss: 43.1066 - mae: 43.1066\n",
            "Epoch 270/500\n",
            "2/2 [==============================] - 0s 6ms/step - loss: 12.4930 - mae: 12.4930\n",
            "Epoch 271/500\n",
            "2/2 [==============================] - 0s 5ms/step - loss: 14.5044 - mae: 14.5044\n",
            "Epoch 272/500\n",
            "2/2 [==============================] - 0s 2ms/step - loss: 29.2327 - mae: 29.2327\n",
            "Epoch 273/500\n",
            "2/2 [==============================] - 0s 6ms/step - loss: 6.7681 - mae: 6.7681\n",
            "Epoch 274/500\n",
            "2/2 [==============================] - 0s 4ms/step - loss: 6.2159 - mae: 6.2159\n",
            "Epoch 275/500\n",
            "2/2 [==============================] - 0s 4ms/step - loss: 38.8552 - mae: 38.8552\n",
            "Epoch 276/500\n",
            "2/2 [==============================] - 0s 3ms/step - loss: 7.4669 - mae: 7.4669\n",
            "Epoch 277/500\n",
            "2/2 [==============================] - 0s 3ms/step - loss: 28.3983 - mae: 28.3983\n",
            "Epoch 278/500\n",
            "2/2 [==============================] - 0s 4ms/step - loss: 9.6090 - mae: 9.6090\n",
            "Epoch 279/500\n",
            "2/2 [==============================] - 0s 3ms/step - loss: 16.9182 - mae: 16.9182\n",
            "Epoch 280/500\n",
            "2/2 [==============================] - 0s 4ms/step - loss: 22.4614 - mae: 22.4614\n",
            "Epoch 281/500\n",
            "2/2 [==============================] - 0s 3ms/step - loss: 24.3834 - mae: 24.3834\n",
            "Epoch 282/500\n",
            "2/2 [==============================] - 0s 2ms/step - loss: 7.8481 - mae: 7.8481\n",
            "Epoch 283/500\n",
            "2/2 [==============================] - 0s 3ms/step - loss: 8.2104 - mae: 8.2104\n",
            "Epoch 284/500\n",
            "2/2 [==============================] - 0s 3ms/step - loss: 27.3836 - mae: 27.3836\n",
            "Epoch 285/500\n",
            "2/2 [==============================] - 0s 9ms/step - loss: 14.0226 - mae: 14.0226\n",
            "Epoch 286/500\n",
            "2/2 [==============================] - 0s 6ms/step - loss: 5.1113 - mae: 5.1113\n",
            "Epoch 287/500\n",
            "2/2 [==============================] - 0s 37ms/step - loss: 21.7235 - mae: 21.7235\n",
            "Epoch 288/500\n",
            "2/2 [==============================] - 0s 6ms/step - loss: 28.8115 - mae: 28.8115\n",
            "Epoch 289/500\n",
            "2/2 [==============================] - 0s 5ms/step - loss: 9.3202 - mae: 9.3202\n",
            "Epoch 290/500\n",
            "2/2 [==============================] - 0s 5ms/step - loss: 16.6711 - mae: 16.6711\n",
            "Epoch 291/500\n",
            "2/2 [==============================] - 0s 10ms/step - loss: 17.2652 - mae: 17.2652\n",
            "Epoch 292/500\n",
            "2/2 [==============================] - 0s 4ms/step - loss: 6.5958 - mae: 6.5958\n",
            "Epoch 293/500\n",
            "2/2 [==============================] - 0s 6ms/step - loss: 17.5448 - mae: 17.5448\n",
            "Epoch 294/500\n",
            "2/2 [==============================] - 0s 7ms/step - loss: 26.5144 - mae: 26.5144\n",
            "Epoch 295/500\n",
            "2/2 [==============================] - 0s 3ms/step - loss: 13.9913 - mae: 13.9913\n",
            "Epoch 296/500\n",
            "2/2 [==============================] - 0s 3ms/step - loss: 4.4172 - mae: 4.4172\n",
            "Epoch 297/500\n",
            "2/2 [==============================] - 0s 13ms/step - loss: 8.3778 - mae: 8.3778\n",
            "Epoch 298/500\n",
            "2/2 [==============================] - 0s 3ms/step - loss: 24.8454 - mae: 24.8454\n",
            "Epoch 299/500\n",
            "2/2 [==============================] - 0s 3ms/step - loss: 18.8622 - mae: 18.8622\n",
            "Epoch 300/500\n",
            "2/2 [==============================] - 0s 7ms/step - loss: 8.4048 - mae: 8.4048\n",
            "Epoch 301/500\n",
            "2/2 [==============================] - 0s 7ms/step - loss: 14.9354 - mae: 14.9354\n",
            "Epoch 302/500\n",
            "2/2 [==============================] - 0s 3ms/step - loss: 5.9142 - mae: 5.9142\n",
            "Epoch 303/500\n",
            "2/2 [==============================] - 0s 5ms/step - loss: 22.4805 - mae: 22.4805\n",
            "Epoch 304/500\n",
            "2/2 [==============================] - 0s 3ms/step - loss: 26.0898 - mae: 26.0898\n",
            "Epoch 305/500\n",
            "2/2 [==============================] - 0s 4ms/step - loss: 8.5265 - mae: 8.5265\n",
            "Epoch 306/500\n",
            "2/2 [==============================] - 0s 3ms/step - loss: 21.7415 - mae: 21.7415\n",
            "Epoch 307/500\n",
            "2/2 [==============================] - 0s 3ms/step - loss: 7.2539 - mae: 7.2539\n",
            "Epoch 308/500\n",
            "2/2 [==============================] - 0s 3ms/step - loss: 22.2521 - mae: 22.2521\n",
            "Epoch 309/500\n",
            "2/2 [==============================] - 0s 4ms/step - loss: 19.0001 - mae: 19.0001\n",
            "Epoch 310/500\n",
            "2/2 [==============================] - 0s 10ms/step - loss: 5.4887 - mae: 5.4887\n",
            "Epoch 311/500\n",
            "2/2 [==============================] - 0s 17ms/step - loss: 7.5732 - mae: 7.5732\n",
            "Epoch 312/500\n",
            "2/2 [==============================] - 0s 12ms/step - loss: 30.0280 - mae: 30.0280\n",
            "Epoch 313/500\n",
            "2/2 [==============================] - 0s 3ms/step - loss: 6.9856 - mae: 6.9856\n",
            "Epoch 314/500\n",
            "2/2 [==============================] - 0s 6ms/step - loss: 8.5222 - mae: 8.5222\n",
            "Epoch 315/500\n",
            "2/2 [==============================] - 0s 20ms/step - loss: 24.7269 - mae: 24.7269\n",
            "Epoch 316/500\n",
            "2/2 [==============================] - 0s 7ms/step - loss: 13.3719 - mae: 13.3719\n",
            "Epoch 317/500\n",
            "2/2 [==============================] - 0s 4ms/step - loss: 19.2059 - mae: 19.2059\n",
            "Epoch 318/500\n",
            "2/2 [==============================] - 0s 9ms/step - loss: 7.6274 - mae: 7.6274\n",
            "Epoch 319/500\n",
            "2/2 [==============================] - 0s 17ms/step - loss: 17.4074 - mae: 17.4074\n",
            "Epoch 320/500\n",
            "2/2 [==============================] - 0s 5ms/step - loss: 9.5873 - mae: 9.5873\n",
            "Epoch 321/500\n",
            "2/2 [==============================] - 0s 11ms/step - loss: 7.5933 - mae: 7.5933\n",
            "Epoch 322/500\n",
            "2/2 [==============================] - 0s 6ms/step - loss: 4.2938 - mae: 4.2938\n",
            "Epoch 323/500\n",
            "2/2 [==============================] - 0s 13ms/step - loss: 24.1424 - mae: 24.1424\n",
            "Epoch 324/500\n",
            "2/2 [==============================] - 0s 13ms/step - loss: 6.6627 - mae: 6.6627\n",
            "Epoch 325/500\n",
            "2/2 [==============================] - 0s 3ms/step - loss: 15.9006 - mae: 15.9006\n",
            "Epoch 326/500\n",
            "2/2 [==============================] - 0s 3ms/step - loss: 7.1703 - mae: 7.1703\n",
            "Epoch 327/500\n",
            "2/2 [==============================] - 0s 3ms/step - loss: 20.4621 - mae: 20.4621\n",
            "Epoch 328/500\n",
            "2/2 [==============================] - 0s 7ms/step - loss: 13.7579 - mae: 13.7579\n",
            "Epoch 329/500\n",
            "2/2 [==============================] - 0s 5ms/step - loss: 17.6897 - mae: 17.6897\n",
            "Epoch 330/500\n",
            "2/2 [==============================] - 0s 9ms/step - loss: 6.4233 - mae: 6.4233\n",
            "Epoch 331/500\n",
            "2/2 [==============================] - 0s 4ms/step - loss: 21.9435 - mae: 21.9435\n",
            "Epoch 332/500\n",
            "2/2 [==============================] - 0s 3ms/step - loss: 11.5912 - mae: 11.5912\n",
            "Epoch 333/500\n",
            "2/2 [==============================] - 0s 3ms/step - loss: 8.5411 - mae: 8.5411\n",
            "Epoch 334/500\n",
            "2/2 [==============================] - 0s 4ms/step - loss: 9.1214 - mae: 9.1214\n",
            "Epoch 335/500\n",
            "2/2 [==============================] - 0s 12ms/step - loss: 5.5084 - mae: 5.5084\n",
            "Epoch 336/500\n",
            "2/2 [==============================] - 0s 7ms/step - loss: 31.8201 - mae: 31.8201\n",
            "Epoch 337/500\n",
            "2/2 [==============================] - 0s 9ms/step - loss: 8.1399 - mae: 8.1399\n",
            "Epoch 338/500\n",
            "2/2 [==============================] - 0s 5ms/step - loss: 20.3433 - mae: 20.3433\n",
            "Epoch 339/500\n",
            "2/2 [==============================] - 0s 6ms/step - loss: 37.0093 - mae: 37.0093\n",
            "Epoch 340/500\n",
            "2/2 [==============================] - 0s 5ms/step - loss: 9.6029 - mae: 9.6029\n",
            "Epoch 341/500\n",
            "2/2 [==============================] - 0s 21ms/step - loss: 9.6478 - mae: 9.6478\n",
            "Epoch 342/500\n",
            "2/2 [==============================] - 0s 5ms/step - loss: 13.4586 - mae: 13.4586\n",
            "Epoch 343/500\n",
            "2/2 [==============================] - 0s 6ms/step - loss: 10.6069 - mae: 10.6069\n",
            "Epoch 344/500\n",
            "2/2 [==============================] - 0s 5ms/step - loss: 8.3460 - mae: 8.3460\n",
            "Epoch 345/500\n",
            "2/2 [==============================] - 0s 5ms/step - loss: 31.6243 - mae: 31.6243\n",
            "Epoch 346/500\n",
            "2/2 [==============================] - 0s 4ms/step - loss: 9.2305 - mae: 9.2305\n",
            "Epoch 347/500\n",
            "2/2 [==============================] - 0s 29ms/step - loss: 26.6237 - mae: 26.6237\n",
            "Epoch 348/500\n",
            "2/2 [==============================] - 0s 11ms/step - loss: 12.5742 - mae: 12.5742\n",
            "Epoch 349/500\n",
            "2/2 [==============================] - 0s 3ms/step - loss: 12.4261 - mae: 12.4261\n",
            "Epoch 350/500\n",
            "2/2 [==============================] - 0s 2ms/step - loss: 16.1133 - mae: 16.1133\n",
            "Epoch 351/500\n",
            "2/2 [==============================] - 0s 3ms/step - loss: 34.0168 - mae: 34.0168\n",
            "Epoch 352/500\n",
            "2/2 [==============================] - 0s 3ms/step - loss: 14.1492 - mae: 14.1492\n",
            "Epoch 353/500\n",
            "2/2 [==============================] - 0s 4ms/step - loss: 16.6209 - mae: 16.6209\n",
            "Epoch 354/500\n",
            "2/2 [==============================] - 0s 6ms/step - loss: 19.7473 - mae: 19.7473\n",
            "Epoch 355/500\n",
            "2/2 [==============================] - 0s 3ms/step - loss: 35.9724 - mae: 35.9724\n",
            "Epoch 356/500\n",
            "2/2 [==============================] - 0s 4ms/step - loss: 7.8133 - mae: 7.8133\n",
            "Epoch 357/500\n",
            "2/2 [==============================] - 0s 7ms/step - loss: 22.1373 - mae: 22.1373\n",
            "Epoch 358/500\n",
            "2/2 [==============================] - 0s 6ms/step - loss: 20.1026 - mae: 20.1026\n",
            "Epoch 359/500\n",
            "2/2 [==============================] - 0s 7ms/step - loss: 9.5299 - mae: 9.5299\n",
            "Epoch 360/500\n",
            "2/2 [==============================] - 0s 9ms/step - loss: 21.5162 - mae: 21.5162\n",
            "Epoch 361/500\n",
            "2/2 [==============================] - 0s 6ms/step - loss: 10.2132 - mae: 10.2132\n",
            "Epoch 362/500\n",
            "2/2 [==============================] - 0s 10ms/step - loss: 6.0551 - mae: 6.0551\n",
            "Epoch 363/500\n",
            "2/2 [==============================] - 0s 6ms/step - loss: 24.3987 - mae: 24.3987\n",
            "Epoch 364/500\n",
            "2/2 [==============================] - 0s 10ms/step - loss: 30.8080 - mae: 30.8080\n",
            "Epoch 365/500\n",
            "2/2 [==============================] - 0s 3ms/step - loss: 7.7931 - mae: 7.7931\n",
            "Epoch 366/500\n",
            "2/2 [==============================] - 0s 9ms/step - loss: 5.6864 - mae: 5.6864\n",
            "Epoch 367/500\n",
            "2/2 [==============================] - 0s 7ms/step - loss: 36.8897 - mae: 36.8897\n",
            "Epoch 368/500\n",
            "2/2 [==============================] - 0s 4ms/step - loss: 6.6544 - mae: 6.6544\n",
            "Epoch 369/500\n",
            "2/2 [==============================] - 0s 8ms/step - loss: 8.7833 - mae: 8.7833\n",
            "Epoch 370/500\n",
            "2/2 [==============================] - 0s 8ms/step - loss: 7.0447 - mae: 7.0447\n",
            "Epoch 371/500\n",
            "2/2 [==============================] - 0s 3ms/step - loss: 20.1690 - mae: 20.1690\n",
            "Epoch 372/500\n",
            "2/2 [==============================] - 0s 7ms/step - loss: 11.5416 - mae: 11.5416\n",
            "Epoch 373/500\n",
            "2/2 [==============================] - 0s 6ms/step - loss: 27.6783 - mae: 27.6783\n",
            "Epoch 374/500\n",
            "2/2 [==============================] - 0s 7ms/step - loss: 8.7069 - mae: 8.7069\n",
            "Epoch 375/500\n",
            "2/2 [==============================] - 0s 9ms/step - loss: 4.4352 - mae: 4.4352\n",
            "Epoch 376/500\n",
            "2/2 [==============================] - 0s 4ms/step - loss: 17.3903 - mae: 17.3903\n",
            "Epoch 377/500\n",
            "2/2 [==============================] - 0s 5ms/step - loss: 13.6083 - mae: 13.6083\n",
            "Epoch 378/500\n",
            "2/2 [==============================] - 0s 4ms/step - loss: 16.8210 - mae: 16.8210\n",
            "Epoch 379/500\n",
            "2/2 [==============================] - 0s 5ms/step - loss: 20.7747 - mae: 20.7747\n",
            "Epoch 380/500\n",
            "2/2 [==============================] - 0s 5ms/step - loss: 38.0046 - mae: 38.0046\n",
            "Epoch 381/500\n",
            "2/2 [==============================] - 0s 4ms/step - loss: 9.6792 - mae: 9.6792\n",
            "Epoch 382/500\n",
            "2/2 [==============================] - 0s 5ms/step - loss: 6.5706 - mae: 6.5706\n",
            "Epoch 383/500\n",
            "2/2 [==============================] - 0s 5ms/step - loss: 19.5481 - mae: 19.5481\n",
            "Epoch 384/500\n",
            "2/2 [==============================] - 0s 3ms/step - loss: 7.5013 - mae: 7.5013\n",
            "Epoch 385/500\n",
            "2/2 [==============================] - 0s 3ms/step - loss: 8.3867 - mae: 8.3867\n",
            "Epoch 386/500\n",
            "2/2 [==============================] - 0s 3ms/step - loss: 20.7875 - mae: 20.7875\n",
            "Epoch 387/500\n",
            "2/2 [==============================] - 0s 4ms/step - loss: 26.2012 - mae: 26.2012\n",
            "Epoch 388/500\n",
            "2/2 [==============================] - 0s 3ms/step - loss: 8.6642 - mae: 8.6642\n",
            "Epoch 389/500\n",
            "2/2 [==============================] - 0s 4ms/step - loss: 5.1811 - mae: 5.1811\n",
            "Epoch 390/500\n",
            "2/2 [==============================] - 0s 3ms/step - loss: 21.4080 - mae: 21.4080\n",
            "Epoch 391/500\n",
            "2/2 [==============================] - 0s 3ms/step - loss: 5.0215 - mae: 5.0215\n",
            "Epoch 392/500\n",
            "2/2 [==============================] - 0s 3ms/step - loss: 17.3919 - mae: 17.3919\n",
            "Epoch 393/500\n",
            "2/2 [==============================] - 0s 3ms/step - loss: 7.9541 - mae: 7.9541\n",
            "Epoch 394/500\n",
            "2/2 [==============================] - 0s 3ms/step - loss: 14.0565 - mae: 14.0565\n",
            "Epoch 395/500\n",
            "2/2 [==============================] - 0s 3ms/step - loss: 28.9024 - mae: 28.9024\n",
            "Epoch 396/500\n",
            "2/2 [==============================] - 0s 3ms/step - loss: 7.8138 - mae: 7.8138\n",
            "Epoch 397/500\n",
            "2/2 [==============================] - 0s 3ms/step - loss: 10.3612 - mae: 10.3612\n",
            "Epoch 398/500\n",
            "2/2 [==============================] - 0s 3ms/step - loss: 6.1155 - mae: 6.1155\n",
            "Epoch 399/500\n",
            "2/2 [==============================] - 0s 3ms/step - loss: 13.3901 - mae: 13.3901\n",
            "Epoch 400/500\n",
            "2/2 [==============================] - 0s 3ms/step - loss: 6.2625 - mae: 6.2625\n",
            "Epoch 401/500\n",
            "2/2 [==============================] - 0s 3ms/step - loss: 7.6580 - mae: 7.6580\n",
            "Epoch 402/500\n",
            "2/2 [==============================] - 0s 3ms/step - loss: 14.1257 - mae: 14.1257\n",
            "Epoch 403/500\n",
            "2/2 [==============================] - 0s 3ms/step - loss: 10.7265 - mae: 10.7265\n",
            "Epoch 404/500\n",
            "2/2 [==============================] - 0s 3ms/step - loss: 23.8581 - mae: 23.8581\n",
            "Epoch 405/500\n",
            "2/2 [==============================] - 0s 3ms/step - loss: 17.9920 - mae: 17.9920\n",
            "Epoch 406/500\n",
            "2/2 [==============================] - 0s 4ms/step - loss: 6.6134 - mae: 6.6134\n",
            "Epoch 407/500\n",
            "2/2 [==============================] - 0s 3ms/step - loss: 11.7935 - mae: 11.7935\n",
            "Epoch 408/500\n",
            "2/2 [==============================] - 0s 3ms/step - loss: 5.4718 - mae: 5.4718\n",
            "Epoch 409/500\n",
            "2/2 [==============================] - 0s 3ms/step - loss: 33.1840 - mae: 33.1840\n",
            "Epoch 410/500\n",
            "2/2 [==============================] - 0s 3ms/step - loss: 7.8347 - mae: 7.8347\n",
            "Epoch 411/500\n",
            "2/2 [==============================] - 0s 3ms/step - loss: 14.6512 - mae: 14.6512\n",
            "Epoch 412/500\n",
            "2/2 [==============================] - 0s 3ms/step - loss: 23.1205 - mae: 23.1205\n",
            "Epoch 413/500\n",
            "2/2 [==============================] - 0s 3ms/step - loss: 12.1089 - mae: 12.1089\n",
            "Epoch 414/500\n",
            "2/2 [==============================] - 0s 3ms/step - loss: 7.1447 - mae: 7.1447\n",
            "Epoch 415/500\n",
            "2/2 [==============================] - 0s 3ms/step - loss: 10.6316 - mae: 10.6316\n",
            "Epoch 416/500\n",
            "2/2 [==============================] - 0s 3ms/step - loss: 26.3396 - mae: 26.3396\n",
            "Epoch 417/500\n",
            "2/2 [==============================] - 0s 3ms/step - loss: 15.4139 - mae: 15.4139\n",
            "Epoch 418/500\n",
            "2/2 [==============================] - 0s 2ms/step - loss: 12.1234 - mae: 12.1234\n",
            "Epoch 419/500\n",
            "2/2 [==============================] - 0s 3ms/step - loss: 16.5347 - mae: 16.5347\n",
            "Epoch 420/500\n",
            "2/2 [==============================] - 0s 3ms/step - loss: 25.3320 - mae: 25.3320\n",
            "Epoch 421/500\n",
            "2/2 [==============================] - 0s 3ms/step - loss: 17.7327 - mae: 17.7327\n",
            "Epoch 422/500\n",
            "2/2 [==============================] - 0s 3ms/step - loss: 7.0828 - mae: 7.0828\n",
            "Epoch 423/500\n",
            "2/2 [==============================] - 0s 3ms/step - loss: 25.5779 - mae: 25.5779\n",
            "Epoch 424/500\n",
            "2/2 [==============================] - 0s 3ms/step - loss: 16.3121 - mae: 16.3121\n",
            "Epoch 425/500\n",
            "2/2 [==============================] - 0s 4ms/step - loss: 6.6687 - mae: 6.6687\n",
            "Epoch 426/500\n",
            "2/2 [==============================] - 0s 3ms/step - loss: 20.8231 - mae: 20.8231\n",
            "Epoch 427/500\n",
            "2/2 [==============================] - 0s 3ms/step - loss: 5.6199 - mae: 5.6199\n",
            "Epoch 428/500\n",
            "2/2 [==============================] - 0s 6ms/step - loss: 12.5026 - mae: 12.5026\n",
            "Epoch 429/500\n",
            "2/2 [==============================] - 0s 4ms/step - loss: 10.4421 - mae: 10.4421\n",
            "Epoch 430/500\n",
            "2/2 [==============================] - 0s 3ms/step - loss: 9.2048 - mae: 9.2048\n",
            "Epoch 431/500\n",
            "2/2 [==============================] - 0s 5ms/step - loss: 10.4607 - mae: 10.4607\n",
            "Epoch 432/500\n",
            "2/2 [==============================] - 0s 4ms/step - loss: 8.9383 - mae: 8.9383\n",
            "Epoch 433/500\n",
            "2/2 [==============================] - 0s 3ms/step - loss: 3.5154 - mae: 3.5154\n",
            "Epoch 434/500\n",
            "2/2 [==============================] - 0s 3ms/step - loss: 39.1787 - mae: 39.1787\n",
            "Epoch 435/500\n",
            "2/2 [==============================] - 0s 7ms/step - loss: 13.1214 - mae: 13.1214\n",
            "Epoch 436/500\n",
            "2/2 [==============================] - 0s 7ms/step - loss: 12.0640 - mae: 12.0640\n",
            "Epoch 437/500\n",
            "2/2 [==============================] - 0s 5ms/step - loss: 16.6820 - mae: 16.6820\n",
            "Epoch 438/500\n",
            "2/2 [==============================] - 0s 4ms/step - loss: 14.4875 - mae: 14.4875\n",
            "Epoch 439/500\n",
            "2/2 [==============================] - 0s 3ms/step - loss: 32.4410 - mae: 32.4410\n",
            "Epoch 440/500\n",
            "2/2 [==============================] - 0s 4ms/step - loss: 11.3134 - mae: 11.3134\n",
            "Epoch 441/500\n",
            "2/2 [==============================] - 0s 4ms/step - loss: 16.2206 - mae: 16.2206\n",
            "Epoch 442/500\n",
            "2/2 [==============================] - 0s 4ms/step - loss: 24.6197 - mae: 24.6197\n",
            "Epoch 443/500\n",
            "2/2 [==============================] - 0s 3ms/step - loss: 19.9225 - mae: 19.9225\n",
            "Epoch 444/500\n",
            "2/2 [==============================] - 0s 6ms/step - loss: 8.1821 - mae: 8.1821\n",
            "Epoch 445/500\n",
            "2/2 [==============================] - 0s 3ms/step - loss: 13.8939 - mae: 13.8939\n",
            "Epoch 446/500\n",
            "2/2 [==============================] - 0s 3ms/step - loss: 17.7113 - mae: 17.7113\n",
            "Epoch 447/500\n",
            "2/2 [==============================] - 0s 4ms/step - loss: 6.4340 - mae: 6.4340\n",
            "Epoch 448/500\n",
            "2/2 [==============================] - 0s 7ms/step - loss: 5.0893 - mae: 5.0893\n",
            "Epoch 449/500\n",
            "2/2 [==============================] - 0s 2ms/step - loss: 16.9016 - mae: 16.9016\n",
            "Epoch 450/500\n",
            "2/2 [==============================] - 0s 4ms/step - loss: 15.4883 - mae: 15.4883\n",
            "Epoch 451/500\n",
            "2/2 [==============================] - 0s 3ms/step - loss: 17.8040 - mae: 17.8040\n",
            "Epoch 452/500\n",
            "2/2 [==============================] - 0s 10ms/step - loss: 49.5507 - mae: 49.5507\n",
            "Epoch 453/500\n",
            "2/2 [==============================] - 0s 4ms/step - loss: 27.3261 - mae: 27.3261\n",
            "Epoch 454/500\n",
            "2/2 [==============================] - 0s 3ms/step - loss: 23.7285 - mae: 23.7285\n",
            "Epoch 455/500\n",
            "2/2 [==============================] - 0s 3ms/step - loss: 8.0935 - mae: 8.0935\n",
            "Epoch 456/500\n",
            "2/2 [==============================] - 0s 3ms/step - loss: 12.1459 - mae: 12.1459\n",
            "Epoch 457/500\n",
            "2/2 [==============================] - 0s 3ms/step - loss: 17.1152 - mae: 17.1152\n",
            "Epoch 458/500\n",
            "2/2 [==============================] - 0s 3ms/step - loss: 11.8968 - mae: 11.8968\n",
            "Epoch 459/500\n",
            "2/2 [==============================] - 0s 4ms/step - loss: 25.0736 - mae: 25.0736\n",
            "Epoch 460/500\n",
            "2/2 [==============================] - 0s 11ms/step - loss: 19.4919 - mae: 19.4919\n",
            "Epoch 461/500\n",
            "2/2 [==============================] - 0s 6ms/step - loss: 8.2619 - mae: 8.2619\n",
            "Epoch 462/500\n",
            "2/2 [==============================] - 0s 7ms/step - loss: 12.4636 - mae: 12.4636\n",
            "Epoch 463/500\n",
            "2/2 [==============================] - 0s 3ms/step - loss: 29.6557 - mae: 29.6557\n",
            "Epoch 464/500\n",
            "2/2 [==============================] - 0s 4ms/step - loss: 6.3024 - mae: 6.3024\n",
            "Epoch 465/500\n",
            "2/2 [==============================] - 0s 6ms/step - loss: 15.0610 - mae: 15.0610\n",
            "Epoch 466/500\n",
            "2/2 [==============================] - 0s 5ms/step - loss: 7.6231 - mae: 7.6231\n",
            "Epoch 467/500\n",
            "2/2 [==============================] - 0s 7ms/step - loss: 22.6595 - mae: 22.6595\n",
            "Epoch 468/500\n",
            "2/2 [==============================] - 0s 13ms/step - loss: 24.2241 - mae: 24.2241\n",
            "Epoch 469/500\n",
            "2/2 [==============================] - 0s 6ms/step - loss: 21.4498 - mae: 21.4498\n",
            "Epoch 470/500\n",
            "2/2 [==============================] - 0s 34ms/step - loss: 8.4934 - mae: 8.4934\n",
            "Epoch 471/500\n",
            "2/2 [==============================] - 0s 19ms/step - loss: 16.3490 - mae: 16.3490\n",
            "Epoch 472/500\n",
            "2/2 [==============================] - 0s 3ms/step - loss: 15.1452 - mae: 15.1452\n",
            "Epoch 473/500\n",
            "2/2 [==============================] - 0s 4ms/step - loss: 19.0003 - mae: 19.0003\n",
            "Epoch 474/500\n",
            "2/2 [==============================] - 0s 7ms/step - loss: 45.0527 - mae: 45.0527\n",
            "Epoch 475/500\n",
            "2/2 [==============================] - 0s 3ms/step - loss: 18.0966 - mae: 18.0966\n",
            "Epoch 476/500\n",
            "2/2 [==============================] - 0s 13ms/step - loss: 12.4880 - mae: 12.4880\n",
            "Epoch 477/500\n",
            "2/2 [==============================] - 0s 5ms/step - loss: 30.0033 - mae: 30.0033\n",
            "Epoch 478/500\n",
            "2/2 [==============================] - 0s 3ms/step - loss: 5.0141 - mae: 5.0141\n",
            "Epoch 479/500\n",
            "2/2 [==============================] - 0s 4ms/step - loss: 5.3547 - mae: 5.3547\n",
            "Epoch 480/500\n",
            "2/2 [==============================] - 0s 4ms/step - loss: 21.3672 - mae: 21.3672\n",
            "Epoch 481/500\n",
            "2/2 [==============================] - 0s 6ms/step - loss: 25.6627 - mae: 25.6627\n",
            "Epoch 482/500\n",
            "2/2 [==============================] - 0s 7ms/step - loss: 12.7233 - mae: 12.7233\n",
            "Epoch 483/500\n",
            "2/2 [==============================] - 0s 4ms/step - loss: 7.1271 - mae: 7.1271\n",
            "Epoch 484/500\n",
            "2/2 [==============================] - 0s 4ms/step - loss: 28.3625 - mae: 28.3625\n",
            "Epoch 485/500\n",
            "2/2 [==============================] - 0s 3ms/step - loss: 8.2365 - mae: 8.2365\n",
            "Epoch 486/500\n",
            "2/2 [==============================] - 0s 3ms/step - loss: 3.7848 - mae: 3.7848\n",
            "Epoch 487/500\n",
            "2/2 [==============================] - 0s 3ms/step - loss: 9.7846 - mae: 9.7846\n",
            "Epoch 488/500\n",
            "2/2 [==============================] - 0s 4ms/step - loss: 28.5472 - mae: 28.5472\n",
            "Epoch 489/500\n",
            "2/2 [==============================] - 0s 37ms/step - loss: 4.5168 - mae: 4.5168\n",
            "Epoch 490/500\n",
            "2/2 [==============================] - 0s 3ms/step - loss: 4.9786 - mae: 4.9786\n",
            "Epoch 491/500\n",
            "2/2 [==============================] - 0s 3ms/step - loss: 18.7141 - mae: 18.7141\n",
            "Epoch 492/500\n",
            "2/2 [==============================] - 0s 4ms/step - loss: 6.1206 - mae: 6.1206\n",
            "Epoch 493/500\n",
            "2/2 [==============================] - 0s 3ms/step - loss: 19.4289 - mae: 19.4289\n",
            "Epoch 494/500\n",
            "2/2 [==============================] - 0s 3ms/step - loss: 19.7162 - mae: 19.7162\n",
            "Epoch 495/500\n",
            "2/2 [==============================] - 0s 4ms/step - loss: 5.8541 - mae: 5.8541\n",
            "Epoch 496/500\n",
            "2/2 [==============================] - 0s 4ms/step - loss: 5.4587 - mae: 5.4587\n",
            "Epoch 497/500\n",
            "2/2 [==============================] - 0s 4ms/step - loss: 12.9191 - mae: 12.9191\n",
            "Epoch 498/500\n",
            "2/2 [==============================] - 0s 3ms/step - loss: 5.9768 - mae: 5.9768\n",
            "Epoch 499/500\n",
            "2/2 [==============================] - 0s 3ms/step - loss: 18.0191 - mae: 18.0191\n",
            "Epoch 500/500\n",
            "2/2 [==============================] - 0s 3ms/step - loss: 14.3676 - mae: 14.3676\n"
          ],
          "name": "stdout"
        },
        {
          "output_type": "execute_result",
          "data": {
            "text/plain": [
              "<tensorflow.python.keras.callbacks.History at 0x7fe7c7b7f410>"
            ]
          },
          "metadata": {
            "tags": []
          },
          "execution_count": 51
        }
      ]
    },
    {
      "cell_type": "code",
      "metadata": {
        "colab": {
          "base_uri": "https://localhost:8080/",
          "height": 467
        },
        "id": "X3VQHzHJVr4s",
        "outputId": "f4a2671d-f723-4019-b9f5-fde6c789d6da"
      },
      "source": [
        "y_pred_3 = model_3.predict(X_test)\n",
        "\n",
        "#Plot the predictions\n",
        "plot_predictions(predictions=y_pred_3)"
      ],
      "execution_count": null,
      "outputs": [
        {
          "output_type": "stream",
          "text": [
            "WARNING:tensorflow:9 out of the last 9 calls to <function Model.make_predict_function.<locals>.predict_function at 0x7fe7c7b9e440> triggered tf.function retracing. Tracing is expensive and the excessive number of tracings could be due to (1) creating @tf.function repeatedly in a loop, (2) passing tensors with different shapes, (3) passing Python objects instead of tensors. For (1), please define your @tf.function outside of the loop. For (2), @tf.function has experimental_relax_shapes=True option that relaxes argument shapes that can avoid unnecessary retracing. For (3), please refer to https://www.tensorflow.org/guide/function#controlling_retracing and https://www.tensorflow.org/api_docs/python/tf/function for  more details.\n"
          ],
          "name": "stdout"
        },
        {
          "output_type": "display_data",
          "data": {
            "image/png": "[encoded data removed]",
            "text/plain": [
              "<Figure size 720x504 with 1 Axes>"
            ]
          },
          "metadata": {
            "tags": [],
            "needs_background": "light"
          }
        }
      ]
    },
    {
      "cell_type": "code",
      "metadata": {
        "colab": {
          "base_uri": "https://localhost:8080/"
        },
        "id": "dxKCbRTYV7bN",
        "outputId": "f2514fde-1ca0-4b52-fddb-ca2c0d153009"
      },
      "source": [
        "mae_3 = mae(y_test,y_pred_3)\n",
        "mse_3 = mse(y_test,y_pred_3)\n",
        "\n",
        "mae_3,mse_3"
      ],
      "execution_count": null,
      "outputs": [
        {
          "output_type": "execute_result",
          "data": {
            "text/plain": [
              "(<tf.Tensor: shape=(), dtype=float32, numpy=67.42993>,\n",
              " <tf.Tensor: shape=(), dtype=float32, numpy=4630.3647>)"
            ]
          },
          "metadata": {
            "tags": []
          },
          "execution_count": 53
        }
      ]
    },
    {
      "cell_type": "markdown",
      "metadata": {
        "id": "ejUuVWqeW2o2"
      },
      "source": [
        "### Compairing the results of our expermiments"
      ]
    },
    {
      "cell_type": "code",
      "metadata": {
        "colab": {
          "base_uri": "https://localhost:8080/",
          "height": 142
        },
        "id": "2GvBvetsXMPE",
        "outputId": "026b9450-9bf5-4914-eb58-42c50b7f7eab"
      },
      "source": [
        "# Let's compare results using pandas DataFrames\n",
        "\n",
        "import pandas as pd\n",
        "\n",
        "model_results = [[\"Model_1\",mae_1.numpy(),mse_1.numpy()],\n",
        "                 [\"Model_2\",mae_2.numpy(),mse_2.numpy()],\n",
        "                 [\"Model_3\",mae_3.numpy(),mse_3.numpy()]]\n",
        "\n",
        "all_results = pd.DataFrame(model_results,columns=[\"Model\",\"mae\",\"mse\"])\n",
        "all_results"
      ],
      "execution_count": null,
      "outputs": [
        {
          "output_type": "execute_result",
          "data": {
            "text/html": [
              "<div>\n",
              "<style scoped>\n",
              "    .dataframe tbody tr th:only-of-type {\n",
              "        vertical-align: middle;\n",
              "    }\n",
              "\n",
              "    .dataframe tbody tr th {\n",
              "        vertical-align: top;\n",
              "    }\n",
              "\n",
              "    .dataframe thead th {\n",
              "        text-align: right;\n",
              "    }\n",
              "</style>\n",
              "<table border=\"1\" class=\"dataframe\">\n",
              "  <thead>\n",
              "    <tr style=\"text-align: right;\">\n",
              "      <th></th>\n",
              "      <th>Model</th>\n",
              "      <th>mae</th>\n",
              "      <th>mse</th>\n",
              "    </tr>\n",
              "  </thead>\n",
              "  <tbody>\n",
              "    <tr>\n",
              "      <th>0</th>\n",
              "      <td>Model_1</td>\n",
              "      <td>18.745327</td>\n",
              "      <td>353.573364</td>\n",
              "    </tr>\n",
              "    <tr>\n",
              "      <th>1</th>\n",
              "      <td>Model_2</td>\n",
              "      <td>3.110995</td>\n",
              "      <td>12.497052</td>\n",
              "    </tr>\n",
              "    <tr>\n",
              "      <th>2</th>\n",
              "      <td>Model_3</td>\n",
              "      <td>67.429932</td>\n",
              "      <td>4630.364746</td>\n",
              "    </tr>\n",
              "  </tbody>\n",
              "</table>\n",
              "</div>"
            ],
            "text/plain": [
              "     Model        mae          mse\n",
              "0  Model_1  18.745327   353.573364\n",
              "1  Model_2   3.110995    12.497052\n",
              "2  Model_3  67.429932  4630.364746"
            ]
          },
          "metadata": {
            "tags": []
          },
          "execution_count": 54
        }
      ]
    },
    {
      "cell_type": "code",
      "metadata": {
        "colab": {
          "base_uri": "https://localhost:8080/"
        },
        "id": "cJ47EPHzECac",
        "outputId": "b38ce758-16e8-43c3-b8af-069c2b2bbfcd"
      },
      "source": [
        "model_2.summary()"
      ],
      "execution_count": null,
      "outputs": [
        {
          "output_type": "stream",
          "text": [
            "Model: \"sequential_10\"\n",
            "_________________________________________________________________\n",
            "Layer (type)                 Output Shape              Param #   \n",
            "=================================================================\n",
            "dense_19 (Dense)             (None, 10)                20        \n",
            "_________________________________________________________________\n",
            "dense_20 (Dense)             (None, 1)                 11        \n",
            "=================================================================\n",
            "Total params: 31\n",
            "Trainable params: 31\n",
            "Non-trainable params: 0\n",
            "_________________________________________________________________\n"
          ],
          "name": "stdout"
        }
      ]
    },
    {
      "cell_type": "code",
      "metadata": {
        "colab": {
          "base_uri": "https://localhost:8080/",
          "height": 312
        },
        "id": "mtyvWvcgEdd6",
        "outputId": "790c5d4c-4c4b-487b-b1a5-466f48feda87"
      },
      "source": [
        "\n",
        "\n",
        "plot_model(model_2,show_shapes=True)"
      ],
      "execution_count": null,
      "outputs": [
        {
          "output_type": "execute_result",
          "data": {
            "image/png": "[encoded data removed]",
            "text/plain": [
              "<IPython.core.display.Image object>"
            ]
          },
          "metadata": {
            "tags": []
          },
          "execution_count": 57
        }
      ]
    },
    {
      "cell_type": "markdown",
      "metadata": {
        "id": "ypyjtqMCEwdH"
      },
      "source": [
        "### Saving our Models\n",
        "\n",
        "This allows us to use them outside colab."
      ]
    },
    {
      "cell_type": "code",
      "metadata": {
        "colab": {
          "base_uri": "https://localhost:8080/"
        },
        "id": "QOw56VXSH4A_",
        "outputId": "b3404d2f-5f5c-4964-8391-fe04069fd563"
      },
      "source": [
        "model_2.save(\"my_model\")"
      ],
      "execution_count": null,
      "outputs": [
        {
          "output_type": "stream",
          "text": [
            "INFO:tensorflow:Assets written to: my_model/assets\n"
          ],
          "name": "stdout"
        }
      ]
    },
    {
      "cell_type": "code",
      "metadata": {
        "id": "zLGSvQRShcPd"
      },
      "source": [
        ""
      ],
      "execution_count": null,
      "outputs": []
    },
    {
      "cell_type": "markdown",
      "metadata": {
        "id": "3NOhqkbCHGV8"
      },
      "source": [
        ""
      ]
    }
  ]
}