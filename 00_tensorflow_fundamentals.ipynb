{
  "nbformat": 4,
  "nbformat_minor": 0,
  "metadata": {
    "colab": {
      "name": "00_tensorflow_fundamentals.ipynb",
      "provenance": [],
      "authorship_tag": "ABX9TyNidrc+s9kHjWElOlYkHEQB",
      "include_colab_link": true
    },
    "kernelspec": {
      "name": "python3",
      "display_name": "Python 3"
    },
    "language_info": {
      "name": "python"
    }
  },
  "cells": [
    {
      "cell_type": "markdown",
      "metadata": {
        "id": "view-in-github",
        "colab_type": "text"
      },
      "source": [
        "<a href=\"https://colab.research.google.com/github/rakshal123/Introduction-To-Tensorflow/blob/main/00_tensorflow_fundamentals.ipynb\" target=\"_parent\"><img src=\"https://colab.research.google.com/assets/colab-badge.svg\" alt=\"Open In Colab\"/></a>"
      ]
    },
    {
      "cell_type": "markdown",
      "metadata": {
        "id": "LNeA-pjHMKnS"
      },
      "source": [
        "## Introduction To Tensors"
      ]
    },
    {
      "cell_type": "code",
      "metadata": {
        "colab": {
          "base_uri": "https://localhost:8080/"
        },
        "id": "tyUNdzMINoHX",
        "outputId": "a15922b5-fe79-419f-c82a-0a90c5343b11"
      },
      "source": [
        "#import Tensorflow\n",
        "import tensorflow as tf\n",
        "print(tf.__version__)"
      ],
      "execution_count": 1,
      "outputs": [
        {
          "output_type": "stream",
          "text": [
            "2.4.1\n"
          ],
          "name": "stdout"
        }
      ]
    },
    {
      "cell_type": "code",
      "metadata": {
        "colab": {
          "base_uri": "https://localhost:8080/"
        },
        "id": "PKubBtqcOHxJ",
        "outputId": "424cd1dd-b436-4f12-af77-5d59b5d1a9db"
      },
      "source": [
        "# Creating tensors with tf.constants()\n",
        "scalar = tf.constant(7)\n",
        "scalar"
      ],
      "execution_count": 2,
      "outputs": [
        {
          "output_type": "execute_result",
          "data": {
            "text/plain": [
              "<tf.Tensor: shape=(), dtype=int32, numpy=7>"
            ]
          },
          "metadata": {
            "tags": []
          },
          "execution_count": 2
        }
      ]
    },
    {
      "cell_type": "code",
      "metadata": {
        "colab": {
          "base_uri": "https://localhost:8080/"
        },
        "id": "o0D9ZHyYO0tx",
        "outputId": "38f17766-aa0b-470b-808f-63ae45604299"
      },
      "source": [
        "# Check number of dimensions of a tensor(ndim stands for number of dimensions)\n",
        "scalar.ndim"
      ],
      "execution_count": 3,
      "outputs": [
        {
          "output_type": "execute_result",
          "data": {
            "text/plain": [
              "0"
            ]
          },
          "metadata": {
            "tags": []
          },
          "execution_count": 3
        }
      ]
    },
    {
      "cell_type": "code",
      "metadata": {
        "colab": {
          "base_uri": "https://localhost:8080/"
        },
        "id": "3oqycnC8PDnB",
        "outputId": "32fcd314-9b68-49b6-8266-4fcdd9e58e53"
      },
      "source": [
        "# Create a vector\n",
        "vector = tf.constant([10,10])\n",
        "vector"
      ],
      "execution_count": 4,
      "outputs": [
        {
          "output_type": "execute_result",
          "data": {
            "text/plain": [
              "<tf.Tensor: shape=(2,), dtype=int32, numpy=array([10, 10], dtype=int32)>"
            ]
          },
          "metadata": {
            "tags": []
          },
          "execution_count": 4
        }
      ]
    },
    {
      "cell_type": "code",
      "metadata": {
        "colab": {
          "base_uri": "https://localhost:8080/"
        },
        "id": "0jQuxcP_PZ6p",
        "outputId": "8573232d-7722-4ef0-a297-724404d093e8"
      },
      "source": [
        "vector.ndim"
      ],
      "execution_count": 5,
      "outputs": [
        {
          "output_type": "execute_result",
          "data": {
            "text/plain": [
              "1"
            ]
          },
          "metadata": {
            "tags": []
          },
          "execution_count": 5
        }
      ]
    },
    {
      "cell_type": "code",
      "metadata": {
        "colab": {
          "base_uri": "https://localhost:8080/"
        },
        "id": "K5DLLH77PnHf",
        "outputId": "2768c1c3-3c04-4264-ac7d-edb5c979e9f7"
      },
      "source": [
        "# Create a matrix\n",
        "matrix = tf.constant([[10,7],[7,10]])\n",
        "matrix"
      ],
      "execution_count": 6,
      "outputs": [
        {
          "output_type": "execute_result",
          "data": {
            "text/plain": [
              "<tf.Tensor: shape=(2, 2), dtype=int32, numpy=\n",
              "array([[10,  7],\n",
              "       [ 7, 10]], dtype=int32)>"
            ]
          },
          "metadata": {
            "tags": []
          },
          "execution_count": 6
        }
      ]
    },
    {
      "cell_type": "code",
      "metadata": {
        "colab": {
          "base_uri": "https://localhost:8080/"
        },
        "id": "nN-TW3AIP8V1",
        "outputId": "f1932a67-3948-4a53-e848-05a0f18daf05"
      },
      "source": [
        "matrix.ndim"
      ],
      "execution_count": 7,
      "outputs": [
        {
          "output_type": "execute_result",
          "data": {
            "text/plain": [
              "2"
            ]
          },
          "metadata": {
            "tags": []
          },
          "execution_count": 7
        }
      ]
    },
    {
      "cell_type": "code",
      "metadata": {
        "colab": {
          "base_uri": "https://localhost:8080/"
        },
        "id": "A6VQZEB1QBSA",
        "outputId": "ada1cd5a-3921-4881-ef33-c16e0f86ba36"
      },
      "source": [
        "# Create another matrix with dtype\n",
        "another_matrix = tf.constant([[10.,7.],\n",
        "                              [3.,2.],[8.,9.]],dtype = tf.float16)\n",
        "another_matrix"
      ],
      "execution_count": 8,
      "outputs": [
        {
          "output_type": "execute_result",
          "data": {
            "text/plain": [
              "<tf.Tensor: shape=(3, 2), dtype=float16, numpy=\n",
              "array([[10.,  7.],\n",
              "       [ 3.,  2.],\n",
              "       [ 8.,  9.]], dtype=float16)>"
            ]
          },
          "metadata": {
            "tags": []
          },
          "execution_count": 8
        }
      ]
    },
    {
      "cell_type": "code",
      "metadata": {
        "colab": {
          "base_uri": "https://localhost:8080/"
        },
        "id": "HyVCgAsDQqBk",
        "outputId": "05e1baf3-455d-4324-d547-d97ae06b5d65"
      },
      "source": [
        "# what is number of dimensions of another_matrix\n",
        "another_matrix.ndim"
      ],
      "execution_count": 9,
      "outputs": [
        {
          "output_type": "execute_result",
          "data": {
            "text/plain": [
              "2"
            ]
          },
          "metadata": {
            "tags": []
          },
          "execution_count": 9
        }
      ]
    },
    {
      "cell_type": "code",
      "metadata": {
        "colab": {
          "base_uri": "https://localhost:8080/"
        },
        "id": "e60tNP9BRGdt",
        "outputId": "dd0f8406-2dd3-4b51-b36e-48a217899da3"
      },
      "source": [
        "# Lets create a tensor\n",
        "tensor = tf.constant([[[1,2,3],[4,5,6]],[[7,8,9],[11,12,13]],[[14,15,16],[17,18,19]]])\n",
        "tensor"
      ],
      "execution_count": 10,
      "outputs": [
        {
          "output_type": "execute_result",
          "data": {
            "text/plain": [
              "<tf.Tensor: shape=(3, 2, 3), dtype=int32, numpy=\n",
              "array([[[ 1,  2,  3],\n",
              "        [ 4,  5,  6]],\n",
              "\n",
              "       [[ 7,  8,  9],\n",
              "        [11, 12, 13]],\n",
              "\n",
              "       [[14, 15, 16],\n",
              "        [17, 18, 19]]], dtype=int32)>"
            ]
          },
          "metadata": {
            "tags": []
          },
          "execution_count": 10
        }
      ]
    },
    {
      "cell_type": "code",
      "metadata": {
        "colab": {
          "base_uri": "https://localhost:8080/"
        },
        "id": "C4jiZ2VSTxor",
        "outputId": "0eeadcf1-ead1-4763-d76c-8ac5222684a5"
      },
      "source": [
        "tensor.ndim"
      ],
      "execution_count": 11,
      "outputs": [
        {
          "output_type": "execute_result",
          "data": {
            "text/plain": [
              "3"
            ]
          },
          "metadata": {
            "tags": []
          },
          "execution_count": 11
        }
      ]
    },
    {
      "cell_type": "markdown",
      "metadata": {
        "id": "0aywn-x5SDzK"
      },
      "source": [
        "What we've done so far:\n",
        "* Scalar a single number\n",
        "* Vector: a number with direction(wind speed and direction)\n",
        "* Matrix: a 2-diensional array of numbers\n",
        "* Tensor: an n_dimensional array of numbers(0 dimensional array is a scalar,1 dimensional array is a vector)"
      ]
    },
    {
      "cell_type": "markdown",
      "metadata": {
        "id": "iOXP0WzsaYDi"
      },
      "source": [
        "### Creating Tensor with 'tf.Variable'"
      ]
    },
    {
      "cell_type": "code",
      "metadata": {
        "colab": {
          "base_uri": "https://localhost:8080/"
        },
        "id": "VTuqo3FmTf5w",
        "outputId": "c353ea49-d979-4503-bbd0-4acb41c8a701"
      },
      "source": [
        "changeable_tensor = tf.Variable([10,8,5,6,8,9])\n",
        "unchangeable_tensor = tf.constant([10,7])\n",
        "changeable_tensor,unchangeable_tensor"
      ],
      "execution_count": 12,
      "outputs": [
        {
          "output_type": "execute_result",
          "data": {
            "text/plain": [
              "(<tf.Variable 'Variable:0' shape=(6,) dtype=int32, numpy=array([10,  8,  5,  6,  8,  9], dtype=int32)>,\n",
              " <tf.Tensor: shape=(2,), dtype=int32, numpy=array([10,  7], dtype=int32)>)"
            ]
          },
          "metadata": {
            "tags": []
          },
          "execution_count": 12
        }
      ]
    },
    {
      "cell_type": "code",
      "metadata": {
        "colab": {
          "base_uri": "https://localhost:8080/"
        },
        "id": "vnzTVF4ia8B6",
        "outputId": "dde2a0ad-2ebe-4d1b-d462-ab17e89d967f"
      },
      "source": [
        "# Changing the value of a tensor using '.assign' keyword\n",
        "changeable_tensor[0:2].assign([10,7])\n",
        "changeable_tensor"
      ],
      "execution_count": 13,
      "outputs": [
        {
          "output_type": "execute_result",
          "data": {
            "text/plain": [
              "<tf.Variable 'Variable:0' shape=(6,) dtype=int32, numpy=array([10,  7,  5,  6,  8,  9], dtype=int32)>"
            ]
          },
          "metadata": {
            "tags": []
          },
          "execution_count": 13
        }
      ]
    },
    {
      "cell_type": "code",
      "metadata": {
        "id": "satpCSGqblue"
      },
      "source": [
        "# This '.assign' keyword doesnot work on unchangeable tensor"
      ],
      "execution_count": 14,
      "outputs": []
    },
    {
      "cell_type": "markdown",
      "metadata": {
        "id": "yie_H2FLcDvY"
      },
      "source": [
        "# Creating random tensors\n",
        "Random tensors are tensors of some arbitrary size which contains random numbers"
      ]
    },
    {
      "cell_type": "code",
      "metadata": {
        "colab": {
          "base_uri": "https://localhost:8080/"
        },
        "id": "9Z-6oMM7eOQI",
        "outputId": "6b61ebc0-bb1e-4567-96bf-d8aa68aa62e6"
      },
      "source": [
        "# Create two random (but the same) tensors\n",
        "random_1 = tf.random.Generator.from_seed(42) # set seed for reproducibility\n",
        "random_1 = random_1.normal(shape=(3,2))\n",
        "random_2 = tf.random.Generator.from_seed(42)\n",
        "random_2 = random_2.normal(shape=(3,2))\n",
        "# Are the equal\n",
        "random_1,random_2,random_1 == random_2"
      ],
      "execution_count": 15,
      "outputs": [
        {
          "output_type": "execute_result",
          "data": {
            "text/plain": [
              "(<tf.Tensor: shape=(3, 2), dtype=float32, numpy=\n",
              " array([[-0.7565803 , -0.06854702],\n",
              "        [ 0.07595026, -1.2573844 ],\n",
              "        [-0.23193763, -1.8107855 ]], dtype=float32)>,\n",
              " <tf.Tensor: shape=(3, 2), dtype=float32, numpy=\n",
              " array([[-0.7565803 , -0.06854702],\n",
              "        [ 0.07595026, -1.2573844 ],\n",
              "        [-0.23193763, -1.8107855 ]], dtype=float32)>,\n",
              " <tf.Tensor: shape=(3, 2), dtype=bool, numpy=\n",
              " array([[ True,  True],\n",
              "        [ True,  True],\n",
              "        [ True,  True]])>)"
            ]
          },
          "metadata": {
            "tags": []
          },
          "execution_count": 15
        }
      ]
    },
    {
      "cell_type": "markdown",
      "metadata": {
        "id": "70l85Gjmgc7W"
      },
      "source": [
        "### Shuffle the order of elements in a tensor"
      ]
    },
    {
      "cell_type": "code",
      "metadata": {
        "id": "nwWjWwdVXv6I"
      },
      "source": [
        "## Shuffle a tensor \n",
        "not_shuffle = tf.constant([[10,7],\n",
        "                           [3,4],\n",
        "                           [2,5]])\n",
        "\n"
      ],
      "execution_count": 16,
      "outputs": []
    },
    {
      "cell_type": "code",
      "metadata": {
        "colab": {
          "base_uri": "https://localhost:8080/"
        },
        "id": "GrtdwXL8bfh0",
        "outputId": "52fe6ea1-1fc7-41f2-c958-b2db63db3a78"
      },
      "source": [
        "# Shuffle out not_shuffle\n",
        "tf.random.set_seed(42) #global level random seed\n",
        "tf.random.shuffle(not_shuffle,seed = 67)#operation level random seed"
      ],
      "execution_count": 17,
      "outputs": [
        {
          "output_type": "execute_result",
          "data": {
            "text/plain": [
              "<tf.Tensor: shape=(3, 2), dtype=int32, numpy=\n",
              "array([[ 2,  5],\n",
              "       [ 3,  4],\n",
              "       [10,  7]], dtype=int32)>"
            ]
          },
          "metadata": {
            "tags": []
          },
          "execution_count": 17
        }
      ]
    },
    {
      "cell_type": "code",
      "metadata": {
        "colab": {
          "base_uri": "https://localhost:8080/"
        },
        "id": "ddVyPRMeYC_h",
        "outputId": "e122abc6-ff58-4f16-b4f1-e6d7a414cbee"
      },
      "source": [
        "not_shuffle.ndim"
      ],
      "execution_count": 18,
      "outputs": [
        {
          "output_type": "execute_result",
          "data": {
            "text/plain": [
              "2"
            ]
          },
          "metadata": {
            "tags": []
          },
          "execution_count": 18
        }
      ]
    },
    {
      "cell_type": "markdown",
      "metadata": {
        "id": "w2u_wZcMYGCz"
      },
      "source": [
        "### Other ways to make Tensors"
      ]
    },
    {
      "cell_type": "code",
      "metadata": {
        "colab": {
          "base_uri": "https://localhost:8080/"
        },
        "id": "beCBBAfSaBuw",
        "outputId": "b6ac663d-8ca2-4740-8384-e8d7149f7e37"
      },
      "source": [
        "# Create a tensor of all ones\n",
        "tf.ones([10,7])"
      ],
      "execution_count": 19,
      "outputs": [
        {
          "output_type": "execute_result",
          "data": {
            "text/plain": [
              "<tf.Tensor: shape=(10, 7), dtype=float32, numpy=\n",
              "array([[1., 1., 1., 1., 1., 1., 1.],\n",
              "       [1., 1., 1., 1., 1., 1., 1.],\n",
              "       [1., 1., 1., 1., 1., 1., 1.],\n",
              "       [1., 1., 1., 1., 1., 1., 1.],\n",
              "       [1., 1., 1., 1., 1., 1., 1.],\n",
              "       [1., 1., 1., 1., 1., 1., 1.],\n",
              "       [1., 1., 1., 1., 1., 1., 1.],\n",
              "       [1., 1., 1., 1., 1., 1., 1.],\n",
              "       [1., 1., 1., 1., 1., 1., 1.],\n",
              "       [1., 1., 1., 1., 1., 1., 1.]], dtype=float32)>"
            ]
          },
          "metadata": {
            "tags": []
          },
          "execution_count": 19
        }
      ]
    },
    {
      "cell_type": "code",
      "metadata": {
        "colab": {
          "base_uri": "https://localhost:8080/"
        },
        "id": "LMdOEv4rdujP",
        "outputId": "60e370a6-8a25-4c69-dcc2-27fff6a10e06"
      },
      "source": [
        "# Create a zero tensor\n",
        "tf.zeros([3,4],dtype='int32')"
      ],
      "execution_count": 20,
      "outputs": [
        {
          "output_type": "execute_result",
          "data": {
            "text/plain": [
              "<tf.Tensor: shape=(3, 4), dtype=int32, numpy=\n",
              "array([[0, 0, 0, 0],\n",
              "       [0, 0, 0, 0],\n",
              "       [0, 0, 0, 0]], dtype=int32)>"
            ]
          },
          "metadata": {
            "tags": []
          },
          "execution_count": 20
        }
      ]
    },
    {
      "cell_type": "markdown",
      "metadata": {
        "id": "FmOMZMUheZyo"
      },
      "source": [
        "### Turn NumPy into tensors\n",
        "\n",
        "The main difference between Numpy and Tensors is that Tensor can be run on a \"GPU\" which is useful for fast computing"
      ]
    },
    {
      "cell_type": "code",
      "metadata": {
        "colab": {
          "base_uri": "https://localhost:8080/"
        },
        "id": "R0Nnd_wZeJ2t",
        "outputId": "2d5b7e0d-7899-4df3-8173-40f3567e3812"
      },
      "source": [
        "# you can also turn NumPy arrays int tensors\n",
        "import numpy as np\n",
        "numpy_A = np.arange(1,25,dtype=np.int32)\n",
        "numpy_A\n"
      ],
      "execution_count": 21,
      "outputs": [
        {
          "output_type": "execute_result",
          "data": {
            "text/plain": [
              "array([ 1,  2,  3,  4,  5,  6,  7,  8,  9, 10, 11, 12, 13, 14, 15, 16, 17,\n",
              "       18, 19, 20, 21, 22, 23, 24], dtype=int32)"
            ]
          },
          "metadata": {
            "tags": []
          },
          "execution_count": 21
        }
      ]
    },
    {
      "cell_type": "code",
      "metadata": {
        "colab": {
          "base_uri": "https://localhost:8080/"
        },
        "id": "4SNkbI6ufRgQ",
        "outputId": "61fe8e55-4755-4155-8cf4-367b25bafe52"
      },
      "source": [
        "A = tf.constant(numpy_A,shape=(2,3,4))\n",
        "A"
      ],
      "execution_count": 22,
      "outputs": [
        {
          "output_type": "execute_result",
          "data": {
            "text/plain": [
              "<tf.Tensor: shape=(2, 3, 4), dtype=int32, numpy=\n",
              "array([[[ 1,  2,  3,  4],\n",
              "        [ 5,  6,  7,  8],\n",
              "        [ 9, 10, 11, 12]],\n",
              "\n",
              "       [[13, 14, 15, 16],\n",
              "        [17, 18, 19, 20],\n",
              "        [21, 22, 23, 24]]], dtype=int32)>"
            ]
          },
          "metadata": {
            "tags": []
          },
          "execution_count": 22
        }
      ]
    },
    {
      "cell_type": "markdown",
      "metadata": {
        "id": "YEezzMrmfb2t"
      },
      "source": [
        "### Getting Information From Tensor\n",
        "When dealing with Tensors we need to take care of these for attributes first:\n",
        "* Shape\n",
        "* Rank\n",
        "* Axis or Dimension\n",
        "* Size"
      ]
    },
    {
      "cell_type": "code",
      "metadata": {
        "id": "xFuKwEUwgS36",
        "colab": {
          "base_uri": "https://localhost:8080/"
        },
        "outputId": "9dd693ba-93f4-46da-d98b-97c501d31c04"
      },
      "source": [
        "# Create a rank 4 tensor\n",
        "rank_4_tensor = tf.zeros(shape=[2,3,4,5])\n",
        "rank_4_tensor"
      ],
      "execution_count": 23,
      "outputs": [
        {
          "output_type": "execute_result",
          "data": {
            "text/plain": [
              "<tf.Tensor: shape=(2, 3, 4, 5), dtype=float32, numpy=\n",
              "array([[[[0., 0., 0., 0., 0.],\n",
              "         [0., 0., 0., 0., 0.],\n",
              "         [0., 0., 0., 0., 0.],\n",
              "         [0., 0., 0., 0., 0.]],\n",
              "\n",
              "        [[0., 0., 0., 0., 0.],\n",
              "         [0., 0., 0., 0., 0.],\n",
              "         [0., 0., 0., 0., 0.],\n",
              "         [0., 0., 0., 0., 0.]],\n",
              "\n",
              "        [[0., 0., 0., 0., 0.],\n",
              "         [0., 0., 0., 0., 0.],\n",
              "         [0., 0., 0., 0., 0.],\n",
              "         [0., 0., 0., 0., 0.]]],\n",
              "\n",
              "\n",
              "       [[[0., 0., 0., 0., 0.],\n",
              "         [0., 0., 0., 0., 0.],\n",
              "         [0., 0., 0., 0., 0.],\n",
              "         [0., 0., 0., 0., 0.]],\n",
              "\n",
              "        [[0., 0., 0., 0., 0.],\n",
              "         [0., 0., 0., 0., 0.],\n",
              "         [0., 0., 0., 0., 0.],\n",
              "         [0., 0., 0., 0., 0.]],\n",
              "\n",
              "        [[0., 0., 0., 0., 0.],\n",
              "         [0., 0., 0., 0., 0.],\n",
              "         [0., 0., 0., 0., 0.],\n",
              "         [0., 0., 0., 0., 0.]]]], dtype=float32)>"
            ]
          },
          "metadata": {
            "tags": []
          },
          "execution_count": 23
        }
      ]
    },
    {
      "cell_type": "code",
      "metadata": {
        "colab": {
          "base_uri": "https://localhost:8080/"
        },
        "id": "jgRluJ6SFKj9",
        "outputId": "69465db4-e60b-4506-ea17-a1fb0f8421ab"
      },
      "source": [
        "rank_4_tensor[0]"
      ],
      "execution_count": 24,
      "outputs": [
        {
          "output_type": "execute_result",
          "data": {
            "text/plain": [
              "<tf.Tensor: shape=(3, 4, 5), dtype=float32, numpy=\n",
              "array([[[0., 0., 0., 0., 0.],\n",
              "        [0., 0., 0., 0., 0.],\n",
              "        [0., 0., 0., 0., 0.],\n",
              "        [0., 0., 0., 0., 0.]],\n",
              "\n",
              "       [[0., 0., 0., 0., 0.],\n",
              "        [0., 0., 0., 0., 0.],\n",
              "        [0., 0., 0., 0., 0.],\n",
              "        [0., 0., 0., 0., 0.]],\n",
              "\n",
              "       [[0., 0., 0., 0., 0.],\n",
              "        [0., 0., 0., 0., 0.],\n",
              "        [0., 0., 0., 0., 0.],\n",
              "        [0., 0., 0., 0., 0.]]], dtype=float32)>"
            ]
          },
          "metadata": {
            "tags": []
          },
          "execution_count": 24
        }
      ]
    },
    {
      "cell_type": "code",
      "metadata": {
        "colab": {
          "base_uri": "https://localhost:8080/"
        },
        "id": "jbgGBAoQFduf",
        "outputId": "6e42d5fe-f35f-42f9-d97f-a56152e77204"
      },
      "source": [
        "rank_4_tensor.shape,rank_4_tensor.ndim,tf.size(rank_4_tensor).numpy()"
      ],
      "execution_count": 25,
      "outputs": [
        {
          "output_type": "execute_result",
          "data": {
            "text/plain": [
              "(TensorShape([2, 3, 4, 5]), 4, 120)"
            ]
          },
          "metadata": {
            "tags": []
          },
          "execution_count": 25
        }
      ]
    },
    {
      "cell_type": "code",
      "metadata": {
        "colab": {
          "base_uri": "https://localhost:8080/"
        },
        "id": "o7sdciCNFpkU",
        "outputId": "b47184b6-8550-47e4-86f7-f312fa9777d4"
      },
      "source": [
        "print(\"Element along the zero axis:\",rank_4_tensor.shape[0])\n",
        "print(\"Element along the last Axis:\",rank_4_tensor.shape[-1])"
      ],
      "execution_count": 26,
      "outputs": [
        {
          "output_type": "stream",
          "text": [
            "Element along the zero axis: 2\n",
            "Element along the last Axis: 5\n"
          ],
          "name": "stdout"
        }
      ]
    },
    {
      "cell_type": "markdown",
      "metadata": {
        "id": "qneoa5-jHTn7"
      },
      "source": [
        "### Indexing Tensors\n",
        "Tensors can be indexed just like Python Lists"
      ]
    },
    {
      "cell_type": "code",
      "metadata": {
        "colab": {
          "base_uri": "https://localhost:8080/"
        },
        "id": "iVOli-QYG-zp",
        "outputId": "fd3ad141-b637-4b02-da0e-91f93d34d306"
      },
      "source": [
        "# Get the forst two elements of each dimensions\n",
        "rank_4_tensor[:1,:,:3,:4]"
      ],
      "execution_count": 27,
      "outputs": [
        {
          "output_type": "execute_result",
          "data": {
            "text/plain": [
              "<tf.Tensor: shape=(1, 3, 3, 4), dtype=float32, numpy=\n",
              "array([[[[0., 0., 0., 0.],\n",
              "         [0., 0., 0., 0.],\n",
              "         [0., 0., 0., 0.]],\n",
              "\n",
              "        [[0., 0., 0., 0.],\n",
              "         [0., 0., 0., 0.],\n",
              "         [0., 0., 0., 0.]],\n",
              "\n",
              "        [[0., 0., 0., 0.],\n",
              "         [0., 0., 0., 0.],\n",
              "         [0., 0., 0., 0.]]]], dtype=float32)>"
            ]
          },
          "metadata": {
            "tags": []
          },
          "execution_count": 27
        }
      ]
    },
    {
      "cell_type": "code",
      "metadata": {
        "colab": {
          "base_uri": "https://localhost:8080/"
        },
        "id": "5uhhSlPrI4U3",
        "outputId": "396c2538-6dbf-4b68-d523-1ecdbf21b9d3"
      },
      "source": [
        "# Create a rank 2 tensor(2 dimmension)\n",
        "\n",
        "rank_2_tensor = tf.constant([[10,7],\n",
        "                             [3,4]])\n",
        "rank_2_tensor"
      ],
      "execution_count": 28,
      "outputs": [
        {
          "output_type": "execute_result",
          "data": {
            "text/plain": [
              "<tf.Tensor: shape=(2, 2), dtype=int32, numpy=\n",
              "array([[10,  7],\n",
              "       [ 3,  4]], dtype=int32)>"
            ]
          },
          "metadata": {
            "tags": []
          },
          "execution_count": 28
        }
      ]
    },
    {
      "cell_type": "code",
      "metadata": {
        "colab": {
          "base_uri": "https://localhost:8080/"
        },
        "id": "9mAEH-b-KwLH",
        "outputId": "45686998-7301-4a38-cb1b-74c4a3c3db0f"
      },
      "source": [
        "# Last item of each our rank 2 Tensor\n",
        "rank_2_tensor[:,-1].numpy()"
      ],
      "execution_count": 29,
      "outputs": [
        {
          "output_type": "execute_result",
          "data": {
            "text/plain": [
              "array([7, 4], dtype=int32)"
            ]
          },
          "metadata": {
            "tags": []
          },
          "execution_count": 29
        }
      ]
    },
    {
      "cell_type": "code",
      "metadata": {
        "colab": {
          "base_uri": "https://localhost:8080/"
        },
        "id": "rax14rWKLQjL",
        "outputId": "f879331a-1c22-4003-cbfa-f3da4b309591"
      },
      "source": [
        "# Add Extra dimension in rank 2 tensor\n",
        "\n",
        "rank_3_tensor = rank_2_tensor[...,tf.newaxis]\n",
        "rank_3_tensor\n"
      ],
      "execution_count": 30,
      "outputs": [
        {
          "output_type": "execute_result",
          "data": {
            "text/plain": [
              "<tf.Tensor: shape=(2, 2, 1), dtype=int32, numpy=\n",
              "array([[[10],\n",
              "        [ 7]],\n",
              "\n",
              "       [[ 3],\n",
              "        [ 4]]], dtype=int32)>"
            ]
          },
          "metadata": {
            "tags": []
          },
          "execution_count": 30
        }
      ]
    },
    {
      "cell_type": "code",
      "metadata": {
        "colab": {
          "base_uri": "https://localhost:8080/"
        },
        "id": "NezHOBKzMWdl",
        "outputId": "7b9957d9-5be7-483e-9225-514dab78c2e3"
      },
      "source": [
        "#Alternative to tf.newaxis is using tf.expand_dims\n",
        "\n",
        "tf.expand_dims(rank_2_tensor,axis=0)"
      ],
      "execution_count": 31,
      "outputs": [
        {
          "output_type": "execute_result",
          "data": {
            "text/plain": [
              "<tf.Tensor: shape=(1, 2, 2), dtype=int32, numpy=\n",
              "array([[[10,  7],\n",
              "        [ 3,  4]]], dtype=int32)>"
            ]
          },
          "metadata": {
            "tags": []
          },
          "execution_count": 31
        }
      ]
    },
    {
      "cell_type": "markdown",
      "metadata": {
        "id": "tauyxFicMuVj"
      },
      "source": [
        "#Manipulating Tensors(Tensor operations)\n",
        "\n",
        "**Basic Operations**\n",
        "\n",
        "**+** , **-** , **/** , **X**"
      ]
    },
    {
      "cell_type": "code",
      "metadata": {
        "colab": {
          "base_uri": "https://localhost:8080/"
        },
        "id": "vM-SMeQLNxxr",
        "outputId": "cfe7ffbd-8c38-4f50-e7fb-a126d5c3e418"
      },
      "source": [
        "# You can add values to a tensor\n",
        "\n",
        "tensor = tf.constant([[10,7],[10,2]])\n",
        "tensor+10"
      ],
      "execution_count": 32,
      "outputs": [
        {
          "output_type": "execute_result",
          "data": {
            "text/plain": [
              "<tf.Tensor: shape=(2, 2), dtype=int32, numpy=\n",
              "array([[20, 17],\n",
              "       [20, 12]], dtype=int32)>"
            ]
          },
          "metadata": {
            "tags": []
          },
          "execution_count": 32
        }
      ]
    },
    {
      "cell_type": "code",
      "metadata": {
        "colab": {
          "base_uri": "https://localhost:8080/"
        },
        "id": "sbR21UFGOix6",
        "outputId": "3edd4806-77c1-4222-aaed-aab9a213ec7b"
      },
      "source": [
        "#Multiplication also works\n",
        "tensor*10"
      ],
      "execution_count": 33,
      "outputs": [
        {
          "output_type": "execute_result",
          "data": {
            "text/plain": [
              "<tf.Tensor: shape=(2, 2), dtype=int32, numpy=\n",
              "array([[100,  70],\n",
              "       [100,  20]], dtype=int32)>"
            ]
          },
          "metadata": {
            "tags": []
          },
          "execution_count": 33
        }
      ]
    },
    {
      "cell_type": "code",
      "metadata": {
        "colab": {
          "base_uri": "https://localhost:8080/"
        },
        "id": "4kKGhrJrOvv7",
        "outputId": "b49d89e4-161e-4fd4-a155-da4a05319a13"
      },
      "source": [
        "# We can use the tensorflow built-in functions\n",
        "\n",
        "tf.multiply(tensor,10)"
      ],
      "execution_count": 34,
      "outputs": [
        {
          "output_type": "execute_result",
          "data": {
            "text/plain": [
              "<tf.Tensor: shape=(2, 2), dtype=int32, numpy=\n",
              "array([[100,  70],\n",
              "       [100,  20]], dtype=int32)>"
            ]
          },
          "metadata": {
            "tags": []
          },
          "execution_count": 34
        }
      ]
    },
    {
      "cell_type": "code",
      "metadata": {
        "colab": {
          "base_uri": "https://localhost:8080/"
        },
        "id": "EGojRXjoO-2k",
        "outputId": "9b9661f9-2694-4c25-d34c-d373d2a52c16"
      },
      "source": [
        "tf.add(tensor,10)"
      ],
      "execution_count": 35,
      "outputs": [
        {
          "output_type": "execute_result",
          "data": {
            "text/plain": [
              "<tf.Tensor: shape=(2, 2), dtype=int32, numpy=\n",
              "array([[20, 17],\n",
              "       [20, 12]], dtype=int32)>"
            ]
          },
          "metadata": {
            "tags": []
          },
          "execution_count": 35
        }
      ]
    },
    {
      "cell_type": "markdown",
      "metadata": {
        "id": "zvkvjlIJPT8f"
      },
      "source": [
        "### Matrix Multiplication\n",
        "Using the function **tf.matmul**"
      ]
    },
    {
      "cell_type": "code",
      "metadata": {
        "colab": {
          "base_uri": "https://localhost:8080/"
        },
        "id": "4MIrMIylPao8",
        "outputId": "4866c895-98fc-44f5-ebed-05fe81bef41b"
      },
      "source": [
        "tensor.numpy(),tf.matmul(tensor,tensor).numpy()"
      ],
      "execution_count": 36,
      "outputs": [
        {
          "output_type": "execute_result",
          "data": {
            "text/plain": [
              "(array([[10,  7],\n",
              "        [10,  2]], dtype=int32), array([[170,  84],\n",
              "        [120,  74]], dtype=int32))"
            ]
          },
          "metadata": {
            "tags": []
          },
          "execution_count": 36
        }
      ]
    },
    {
      "cell_type": "code",
      "metadata": {
        "colab": {
          "base_uri": "https://localhost:8080/"
        },
        "id": "JwMF4tGYUr8e",
        "outputId": "ca01065f-c0e4-47de-efc3-f54784023d84"
      },
      "source": [
        "tensor_1 = tf.constant([[1,2,5],[7,2,1],[3,3,3]])\n",
        "tensor_2 = tf.constant([[3,5],[6,7],[1,8]])\n",
        "tf.matmul(tensor_1,tensor_2,transpose_a=True)"
      ],
      "execution_count": 37,
      "outputs": [
        {
          "output_type": "execute_result",
          "data": {
            "text/plain": [
              "<tf.Tensor: shape=(3, 2), dtype=int32, numpy=\n",
              "array([[48, 78],\n",
              "       [21, 48],\n",
              "       [24, 56]], dtype=int32)>"
            ]
          },
          "metadata": {
            "tags": []
          },
          "execution_count": 37
        }
      ]
    },
    {
      "cell_type": "code",
      "metadata": {
        "colab": {
          "base_uri": "https://localhost:8080/"
        },
        "id": "ludNFPAOVcOt",
        "outputId": "71a126c9-e49a-4848-c45d-80ee392ec3fa"
      },
      "source": [
        "tensor_1 @ tensor_2"
      ],
      "execution_count": 38,
      "outputs": [
        {
          "output_type": "execute_result",
          "data": {
            "text/plain": [
              "<tf.Tensor: shape=(3, 2), dtype=int32, numpy=\n",
              "array([[20, 59],\n",
              "       [34, 57],\n",
              "       [30, 60]], dtype=int32)>"
            ]
          },
          "metadata": {
            "tags": []
          },
          "execution_count": 38
        }
      ]
    },
    {
      "cell_type": "code",
      "metadata": {
        "colab": {
          "base_uri": "https://localhost:8080/"
        },
        "id": "0d6ofKtxYZbs",
        "outputId": "8de28473-58f8-493b-f43e-adae652762b7"
      },
      "source": [
        "# Let's change the shape of the tensor\n",
        "\n",
        "tf.reshape(tensor_1,shape=(3,3))"
      ],
      "execution_count": 39,
      "outputs": [
        {
          "output_type": "execute_result",
          "data": {
            "text/plain": [
              "<tf.Tensor: shape=(3, 3), dtype=int32, numpy=\n",
              "array([[1, 2, 5],\n",
              "       [7, 2, 1],\n",
              "       [3, 3, 3]], dtype=int32)>"
            ]
          },
          "metadata": {
            "tags": []
          },
          "execution_count": 39
        }
      ]
    },
    {
      "cell_type": "markdown",
      "metadata": {
        "id": "2bGzM5rYapU-"
      },
      "source": [
        "### Changing the datatypes of the Tensors"
      ]
    },
    {
      "cell_type": "code",
      "metadata": {
        "colab": {
          "base_uri": "https://localhost:8080/"
        },
        "id": "CzxfkdTlKbyz",
        "outputId": "8a2f3520-153a-4f64-c5c2-9c81e5694624"
      },
      "source": [
        "B = tf.constant([1.7,6.5])\n",
        "B.dtype"
      ],
      "execution_count": 40,
      "outputs": [
        {
          "output_type": "execute_result",
          "data": {
            "text/plain": [
              "tf.float32"
            ]
          },
          "metadata": {
            "tags": []
          },
          "execution_count": 40
        }
      ]
    },
    {
      "cell_type": "code",
      "metadata": {
        "colab": {
          "base_uri": "https://localhost:8080/"
        },
        "id": "IXLzGTZMI5DJ",
        "outputId": "9847d6d1-88d1-48ca-e5c8-bcc82f63e404"
      },
      "source": [
        "#The Precision default is 32-bit but we can change it to 16-bit for faster processing\n",
        "# to change from float32 to float16\n",
        "B = tf.cast(B,dtype = tf.float16)\n",
        "B.dtype"
      ],
      "execution_count": 41,
      "outputs": [
        {
          "output_type": "execute_result",
          "data": {
            "text/plain": [
              "tf.float16"
            ]
          },
          "metadata": {
            "tags": []
          },
          "execution_count": 41
        }
      ]
    },
    {
      "cell_type": "code",
      "metadata": {
        "colab": {
          "base_uri": "https://localhost:8080/"
        },
        "id": "f8HA1S3zLEJc",
        "outputId": "a27240c9-2c83-42ba-ac17-ba8f3d9b71da"
      },
      "source": [
        "C = tf.constant([1,7])\n",
        "C.dtype"
      ],
      "execution_count": 42,
      "outputs": [
        {
          "output_type": "execute_result",
          "data": {
            "text/plain": [
              "tf.int32"
            ]
          },
          "metadata": {
            "tags": []
          },
          "execution_count": 42
        }
      ]
    },
    {
      "cell_type": "code",
      "metadata": {
        "colab": {
          "base_uri": "https://localhost:8080/"
        },
        "id": "FJ6YqWNKNJ15",
        "outputId": "7a9e39ce-52ca-45ad-f4f4-3d0daa3bbfe3"
      },
      "source": [
        "# to convert tf.int32 to tf.float32 we can\n",
        "C = tf.cast(C,dtype=tf.float32)\n",
        "C.dtype"
      ],
      "execution_count": 43,
      "outputs": [
        {
          "output_type": "execute_result",
          "data": {
            "text/plain": [
              "tf.float32"
            ]
          },
          "metadata": {
            "tags": []
          },
          "execution_count": 43
        }
      ]
    },
    {
      "cell_type": "markdown",
      "metadata": {
        "id": "DN56IG_qNZPm"
      },
      "source": [
        "### Aggregationg Tensors\n",
        "\n",
        "Aggregating Tensors = condensing them from multiple values down to a smaller amount of values."
      ]
    },
    {
      "cell_type": "code",
      "metadata": {
        "colab": {
          "base_uri": "https://localhost:8080/"
        },
        "id": "PIN3QLRLNrms",
        "outputId": "e8eb1cba-0dc2-49e4-eedb-35f77c639794"
      },
      "source": [
        "# Get the absolute value\n",
        "D = tf.constant([-7,-10])\n",
        "D"
      ],
      "execution_count": 44,
      "outputs": [
        {
          "output_type": "execute_result",
          "data": {
            "text/plain": [
              "<tf.Tensor: shape=(2,), dtype=int32, numpy=array([ -7, -10], dtype=int32)>"
            ]
          },
          "metadata": {
            "tags": []
          },
          "execution_count": 44
        }
      ]
    },
    {
      "cell_type": "code",
      "metadata": {
        "colab": {
          "base_uri": "https://localhost:8080/"
        },
        "id": "LjkhKE0nQxCc",
        "outputId": "3168db8f-1d1d-43a0-94f6-006492323899"
      },
      "source": [
        "# Ge the absolute values\n",
        "tf.abs(D)"
      ],
      "execution_count": 45,
      "outputs": [
        {
          "output_type": "execute_result",
          "data": {
            "text/plain": [
              "<tf.Tensor: shape=(2,), dtype=int32, numpy=array([ 7, 10], dtype=int32)>"
            ]
          },
          "metadata": {
            "tags": []
          },
          "execution_count": 45
        }
      ]
    },
    {
      "cell_type": "markdown",
      "metadata": {
        "id": "gmAsRDxuQ2v6"
      },
      "source": [
        "# Lets Go through different forms of aggregation\n",
        "\n",
        "* Find the minimum\n",
        "* Get the maximum\n",
        "* Get the mean of the Tensor\n",
        "* Get the sum of the Tensor\n",
        "* Get the Variance and Standard Deviation\n",
        "\n",
        "[link text](https://www.tensorflow.org/api_docs/python/tf/math/reduce_variance)"
      ]
    },
    {
      "cell_type": "code",
      "metadata": {
        "colab": {
          "base_uri": "https://localhost:8080/"
        },
        "id": "2lrs9xUsRj1k",
        "outputId": "2e270c7b-6256-4804-f9b3-406389516eae"
      },
      "source": [
        "# Creating a Tensor\n",
        "E = tf.constant(np.random.randint(0,100,100))\n",
        "E= tf.reshape(E,shape=(2,5,10))\n",
        "E"
      ],
      "execution_count": 46,
      "outputs": [
        {
          "output_type": "execute_result",
          "data": {
            "text/plain": [
              "<tf.Tensor: shape=(2, 5, 10), dtype=int64, numpy=\n",
              "array([[[55, 33,  9, 53, 30, 54, 83, 13, 15, 24],\n",
              "        [31, 30,  2, 92, 74, 27, 55, 98, 89,  6],\n",
              "        [73, 71, 92, 37, 55, 61, 46, 44, 97, 22],\n",
              "        [ 8, 58, 29, 43, 45,  0, 21, 42, 47, 72],\n",
              "        [73, 83, 66, 58, 62, 38, 53, 16,  2, 66]],\n",
              "\n",
              "       [[89, 27, 61, 55,  4,  2, 92, 39, 25, 84],\n",
              "        [74, 99, 98, 85, 91, 65, 32, 40, 42, 47],\n",
              "        [31, 93, 15,  9,  3, 12, 54, 25, 72, 71],\n",
              "        [90, 32, 32, 45,  6, 12, 38, 59, 84, 63],\n",
              "        [55, 32, 60, 61, 26, 73, 81, 13, 15, 39]]])>"
            ]
          },
          "metadata": {
            "tags": []
          },
          "execution_count": 46
        }
      ]
    },
    {
      "cell_type": "code",
      "metadata": {
        "colab": {
          "base_uri": "https://localhost:8080/"
        },
        "id": "9ZQm86CjSPi8",
        "outputId": "777e2d0f-dc2d-4845-f914-777dc1c1e04a"
      },
      "source": [
        "#Find the minimum\n",
        "\n",
        "tf.reduce_min(E)"
      ],
      "execution_count": 47,
      "outputs": [
        {
          "output_type": "execute_result",
          "data": {
            "text/plain": [
              "<tf.Tensor: shape=(), dtype=int64, numpy=0>"
            ]
          },
          "metadata": {
            "tags": []
          },
          "execution_count": 47
        }
      ]
    },
    {
      "cell_type": "code",
      "metadata": {
        "colab": {
          "base_uri": "https://localhost:8080/"
        },
        "id": "FAs0RnOGSbcj",
        "outputId": "9b81cd51-f9c9-46f5-fbe2-4efaa637d668"
      },
      "source": [
        "# Find the maximum\n",
        "tf.reduce_max(E)"
      ],
      "execution_count": 48,
      "outputs": [
        {
          "output_type": "execute_result",
          "data": {
            "text/plain": [
              "<tf.Tensor: shape=(), dtype=int64, numpy=99>"
            ]
          },
          "metadata": {
            "tags": []
          },
          "execution_count": 48
        }
      ]
    },
    {
      "cell_type": "code",
      "metadata": {
        "colab": {
          "base_uri": "https://localhost:8080/"
        },
        "id": "hX2QRJkdTVrs",
        "outputId": "7e3c6780-0e73-4bf2-834b-247c392688ff"
      },
      "source": [
        "# Get the mean of the Tensor\n",
        "tf.reduce_mean(E,axis=0)"
      ],
      "execution_count": 49,
      "outputs": [
        {
          "output_type": "execute_result",
          "data": {
            "text/plain": [
              "<tf.Tensor: shape=(5, 10), dtype=int64, numpy=\n",
              "array([[72, 30, 35, 54, 17, 28, 87, 26, 20, 54],\n",
              "       [52, 64, 50, 88, 82, 46, 43, 69, 65, 26],\n",
              "       [52, 82, 53, 23, 29, 36, 50, 34, 84, 46],\n",
              "       [49, 45, 30, 44, 25,  6, 29, 50, 65, 67],\n",
              "       [64, 57, 63, 59, 44, 55, 67, 14,  8, 52]])>"
            ]
          },
          "metadata": {
            "tags": []
          },
          "execution_count": 49
        }
      ]
    },
    {
      "cell_type": "code",
      "metadata": {
        "colab": {
          "base_uri": "https://localhost:8080/"
        },
        "id": "bOAF4wsdTm1r",
        "outputId": "28026e50-af89-4a2c-bcb5-9080dd9f04e7"
      },
      "source": [
        "#Get the sum of the Tensor\n",
        "tf.reduce_sum(E,axis=2),E.ndim"
      ],
      "execution_count": 50,
      "outputs": [
        {
          "output_type": "execute_result",
          "data": {
            "text/plain": [
              "(<tf.Tensor: shape=(2, 5), dtype=int64, numpy=\n",
              " array([[369, 504, 598, 365, 517],\n",
              "        [478, 673, 385, 461, 455]])>, 3)"
            ]
          },
          "metadata": {
            "tags": []
          },
          "execution_count": 50
        }
      ]
    },
    {
      "cell_type": "code",
      "metadata": {
        "colab": {
          "base_uri": "https://localhost:8080/"
        },
        "id": "yQiVOBaMTueB",
        "outputId": "9f219b54-a1f8-4c28-c426-bc546020a86b"
      },
      "source": [
        " # Get the Variance and Standard Deviation\n",
        "E = tf.cast(E,dtype=tf.float32)\n",
        "tf.math.reduce_variance(E, axis=None, keepdims=False, name=None)"
      ],
      "execution_count": 51,
      "outputs": [
        {
          "output_type": "execute_result",
          "data": {
            "text/plain": [
              "<tf.Tensor: shape=(), dtype=float32, numpy=784.8475>"
            ]
          },
          "metadata": {
            "tags": []
          },
          "execution_count": 51
        }
      ]
    },
    {
      "cell_type": "markdown",
      "metadata": {
        "id": "RR9yDEvOUnul"
      },
      "source": [
        "### Find the positional maximum and minimum"
      ]
    },
    {
      "cell_type": "code",
      "metadata": {
        "colab": {
          "base_uri": "https://localhost:8080/"
        },
        "id": "8EmspIzazx_4",
        "outputId": "139772b4-aec7-4083-d1db-be1d22c0b066"
      },
      "source": [
        "# Create a new tensor\n",
        "tf.random.set_seed(42)\n",
        "F = tf.random.uniform(shape=[50])\n",
        "F"
      ],
      "execution_count": 52,
      "outputs": [
        {
          "output_type": "execute_result",
          "data": {
            "text/plain": [
              "<tf.Tensor: shape=(50,), dtype=float32, numpy=\n",
              "array([0.6645621 , 0.44100678, 0.3528825 , 0.46448255, 0.03366041,\n",
              "       0.68467236, 0.74011743, 0.8724445 , 0.22632635, 0.22319686,\n",
              "       0.3103881 , 0.7223358 , 0.13318717, 0.5480639 , 0.5746088 ,\n",
              "       0.8996835 , 0.00946367, 0.5212307 , 0.6345445 , 0.1993283 ,\n",
              "       0.72942245, 0.54583454, 0.10756552, 0.6767061 , 0.6602763 ,\n",
              "       0.33695042, 0.60141766, 0.21062577, 0.8527372 , 0.44062173,\n",
              "       0.9485276 , 0.23752594, 0.81179297, 0.5263394 , 0.494308  ,\n",
              "       0.21612847, 0.8457197 , 0.8718841 , 0.3083862 , 0.6868038 ,\n",
              "       0.23764038, 0.7817228 , 0.9671384 , 0.06870162, 0.79873943,\n",
              "       0.66028714, 0.5871513 , 0.16461694, 0.7381023 , 0.32054043],\n",
              "      dtype=float32)>"
            ]
          },
          "metadata": {
            "tags": []
          },
          "execution_count": 52
        }
      ]
    },
    {
      "cell_type": "code",
      "metadata": {
        "colab": {
          "base_uri": "https://localhost:8080/"
        },
        "id": "NNvt53Fa1cg_",
        "outputId": "5028d335-dd9f-47af-d85b-0e430cef15d5"
      },
      "source": [
        "# Find the positional maximum\n",
        "tf.argmax(F)"
      ],
      "execution_count": 53,
      "outputs": [
        {
          "output_type": "execute_result",
          "data": {
            "text/plain": [
              "<tf.Tensor: shape=(), dtype=int64, numpy=42>"
            ]
          },
          "metadata": {
            "tags": []
          },
          "execution_count": 53
        }
      ]
    },
    {
      "cell_type": "code",
      "metadata": {
        "colab": {
          "base_uri": "https://localhost:8080/"
        },
        "id": "47ZSd-mp155-",
        "outputId": "81bcf28e-a3fe-47ca-9d95-bd79b625ff77"
      },
      "source": [
        "F[tf.argmax(F)]==tf.reduce_max(F)"
      ],
      "execution_count": 54,
      "outputs": [
        {
          "output_type": "execute_result",
          "data": {
            "text/plain": [
              "<tf.Tensor: shape=(), dtype=bool, numpy=True>"
            ]
          },
          "metadata": {
            "tags": []
          },
          "execution_count": 54
        }
      ]
    },
    {
      "cell_type": "code",
      "metadata": {
        "colab": {
          "base_uri": "https://localhost:8080/"
        },
        "id": "myNq9xcB2OfI",
        "outputId": "d74518a1-d9ee-4de5-8821-9923f9f58dd1"
      },
      "source": [
        "# Find the positional minimum\n",
        "tf.argmin(F),F[tf.argmin(F)]"
      ],
      "execution_count": 55,
      "outputs": [
        {
          "output_type": "execute_result",
          "data": {
            "text/plain": [
              "(<tf.Tensor: shape=(), dtype=int64, numpy=16>,\n",
              " <tf.Tensor: shape=(), dtype=float32, numpy=0.009463668>)"
            ]
          },
          "metadata": {
            "tags": []
          },
          "execution_count": 55
        }
      ]
    },
    {
      "cell_type": "markdown",
      "metadata": {
        "id": "GJGUjCke2c4f"
      },
      "source": [
        "###Sqeezing a Tensor (Removing all the single dimensions)"
      ]
    },
    {
      "cell_type": "code",
      "metadata": {
        "colab": {
          "base_uri": "https://localhost:8080/"
        },
        "id": "ZXdtKg4D3QOS",
        "outputId": "11b0fc10-eb5e-47c4-a329-11e53c5fa60e"
      },
      "source": [
        "# Create a tensor to get started\n",
        "tf.random.set_seed(42)\n",
        "D = tf.constant(tf.random.uniform(shape=[50]),shape=(1,1,2,1,25))\n",
        "D"
      ],
      "execution_count": 56,
      "outputs": [
        {
          "output_type": "execute_result",
          "data": {
            "text/plain": [
              "<tf.Tensor: shape=(1, 1, 2, 1, 25), dtype=float32, numpy=\n",
              "array([[[[[0.6645621 , 0.44100678, 0.3528825 , 0.46448255, 0.03366041,\n",
              "           0.68467236, 0.74011743, 0.8724445 , 0.22632635, 0.22319686,\n",
              "           0.3103881 , 0.7223358 , 0.13318717, 0.5480639 , 0.5746088 ,\n",
              "           0.8996835 , 0.00946367, 0.5212307 , 0.6345445 , 0.1993283 ,\n",
              "           0.72942245, 0.54583454, 0.10756552, 0.6767061 , 0.6602763 ]],\n",
              "\n",
              "         [[0.33695042, 0.60141766, 0.21062577, 0.8527372 , 0.44062173,\n",
              "           0.9485276 , 0.23752594, 0.81179297, 0.5263394 , 0.494308  ,\n",
              "           0.21612847, 0.8457197 , 0.8718841 , 0.3083862 , 0.6868038 ,\n",
              "           0.23764038, 0.7817228 , 0.9671384 , 0.06870162, 0.79873943,\n",
              "           0.66028714, 0.5871513 , 0.16461694, 0.7381023 , 0.32054043]]]]],\n",
              "      dtype=float32)>"
            ]
          },
          "metadata": {
            "tags": []
          },
          "execution_count": 56
        }
      ]
    },
    {
      "cell_type": "code",
      "metadata": {
        "colab": {
          "base_uri": "https://localhost:8080/"
        },
        "id": "br5GRA2w3iDx",
        "outputId": "fb9c82d5-2bee-49e5-9aac-c7e8ab3f7737"
      },
      "source": [
        "# to squeeze\n",
        "D_squeezed = tf.squeeze(D)\n",
        "D_squeezed,D_squeezed.shape"
      ],
      "execution_count": 57,
      "outputs": [
        {
          "output_type": "execute_result",
          "data": {
            "text/plain": [
              "(<tf.Tensor: shape=(2, 25), dtype=float32, numpy=\n",
              " array([[0.6645621 , 0.44100678, 0.3528825 , 0.46448255, 0.03366041,\n",
              "         0.68467236, 0.74011743, 0.8724445 , 0.22632635, 0.22319686,\n",
              "         0.3103881 , 0.7223358 , 0.13318717, 0.5480639 , 0.5746088 ,\n",
              "         0.8996835 , 0.00946367, 0.5212307 , 0.6345445 , 0.1993283 ,\n",
              "         0.72942245, 0.54583454, 0.10756552, 0.6767061 , 0.6602763 ],\n",
              "        [0.33695042, 0.60141766, 0.21062577, 0.8527372 , 0.44062173,\n",
              "         0.9485276 , 0.23752594, 0.81179297, 0.5263394 , 0.494308  ,\n",
              "         0.21612847, 0.8457197 , 0.8718841 , 0.3083862 , 0.6868038 ,\n",
              "         0.23764038, 0.7817228 , 0.9671384 , 0.06870162, 0.79873943,\n",
              "         0.66028714, 0.5871513 , 0.16461694, 0.7381023 , 0.32054043]],\n",
              "       dtype=float32)>, TensorShape([2, 25]))"
            ]
          },
          "metadata": {
            "tags": []
          },
          "execution_count": 57
        }
      ]
    },
    {
      "cell_type": "markdown",
      "metadata": {
        "id": "S6ieum_o4L9z"
      },
      "source": [
        "### One Hot encoding Tensor\n",
        "It is the form of numerical encoding"
      ]
    },
    {
      "cell_type": "code",
      "metadata": {
        "colab": {
          "base_uri": "https://localhost:8080/"
        },
        "id": "9YngIdUa41j3",
        "outputId": "8d198890-ee5d-4c6c-c85c-dc8e0ef62b8e"
      },
      "source": [
        "#Create a list of indices\n",
        "some_list = [0,1,2,3]# could be red,green,blue,indigo\n",
        "\n",
        "#One Hot Encode for our list of indices\n",
        "tf.one_hot(some_list,depth=4).numpy"
      ],
      "execution_count": 58,
      "outputs": [
        {
          "output_type": "execute_result",
          "data": {
            "text/plain": [
              "<bound method _EagerTensorBase.numpy of <tf.Tensor: shape=(4, 4), dtype=float32, numpy=\n",
              "array([[1., 0., 0., 0.],\n",
              "       [0., 1., 0., 0.],\n",
              "       [0., 0., 1., 0.],\n",
              "       [0., 0., 0., 1.]], dtype=float32)>>"
            ]
          },
          "metadata": {
            "tags": []
          },
          "execution_count": 58
        }
      ]
    },
    {
      "cell_type": "markdown",
      "metadata": {
        "id": "yrQMIlw75kXx"
      },
      "source": [
        "### Squaring, Log and SquareRoots"
      ]
    },
    {
      "cell_type": "code",
      "metadata": {
        "colab": {
          "base_uri": "https://localhost:8080/"
        },
        "id": "NUbyby95B5Ve",
        "outputId": "2bdb1972-aa2a-4010-d93f-0085cc858a0b"
      },
      "source": [
        "#Create a new Tensor\n",
        "H = tf.constant(tf.range(0,10),shape=(2,5))\n",
        "H"
      ],
      "execution_count": 60,
      "outputs": [
        {
          "output_type": "execute_result",
          "data": {
            "text/plain": [
              "<tf.Tensor: shape=(2, 5), dtype=int32, numpy=\n",
              "array([[0, 1, 2, 3, 4],\n",
              "       [5, 6, 7, 8, 9]], dtype=int32)>"
            ]
          },
          "metadata": {
            "tags": []
          },
          "execution_count": 60
        }
      ]
    },
    {
      "cell_type": "code",
      "metadata": {
        "colab": {
          "base_uri": "https://localhost:8080/"
        },
        "id": "UNhg_FLWOsA3",
        "outputId": "51ea2abb-f490-4366-9367-7ad40d5912c9"
      },
      "source": [
        "# Square it\n",
        "tf.square(H)"
      ],
      "execution_count": 61,
      "outputs": [
        {
          "output_type": "execute_result",
          "data": {
            "text/plain": [
              "<tf.Tensor: shape=(2, 5), dtype=int32, numpy=\n",
              "array([[ 0,  1,  4,  9, 16],\n",
              "       [25, 36, 49, 64, 81]], dtype=int32)>"
            ]
          },
          "metadata": {
            "tags": []
          },
          "execution_count": 61
        }
      ]
    },
    {
      "cell_type": "code",
      "metadata": {
        "colab": {
          "base_uri": "https://localhost:8080/"
        },
        "id": "-IRxXmxRO5OU",
        "outputId": "e3d5b1d3-c42c-4711-cd58-8307736c07a5"
      },
      "source": [
        "#Find the square Root(method require not int type dtype)\n",
        "tf.sqrt(tf.cast(H,dtype=tf.float16))"
      ],
      "execution_count": 64,
      "outputs": [
        {
          "output_type": "execute_result",
          "data": {
            "text/plain": [
              "<tf.Tensor: shape=(2, 5), dtype=float16, numpy=\n",
              "array([[0.   , 1.   , 1.414, 1.732, 2.   ],\n",
              "       [2.236, 2.45 , 2.646, 2.828, 3.   ]], dtype=float16)>"
            ]
          },
          "metadata": {
            "tags": []
          },
          "execution_count": 64
        }
      ]
    },
    {
      "cell_type": "code",
      "metadata": {
        "colab": {
          "base_uri": "https://localhost:8080/"
        },
        "id": "yQyt_aOLPLXO",
        "outputId": "1ab7fde9-48c7-4691-b779-24260fb9578e"
      },
      "source": [
        "# Find the log\n",
        "tf.math.log(tf.cast(H,dtype=tf.float16))"
      ],
      "execution_count": 66,
      "outputs": [
        {
          "output_type": "execute_result",
          "data": {
            "text/plain": [
              "<tf.Tensor: shape=(2, 5), dtype=float16, numpy=\n",
              "array([[  -inf, 0.    , 0.6934, 1.099 , 1.387 ],\n",
              "       [1.609 , 1.792 , 1.946 , 2.08  , 2.197 ]], dtype=float16)>"
            ]
          },
          "metadata": {
            "tags": []
          },
          "execution_count": 66
        }
      ]
    },
    {
      "cell_type": "markdown",
      "metadata": {
        "id": "ULTIeGS8P06v"
      },
      "source": [
        "### Tensors and Numpy\n",
        "\n",
        "Tensor can very easily interact with Numpy"
      ]
    },
    {
      "cell_type": "code",
      "metadata": {
        "colab": {
          "base_uri": "https://localhost:8080/"
        },
        "id": "lLQFpn9IQD2j",
        "outputId": "6e07ee6b-1a05-4293-99ea-34ef07297512"
      },
      "source": [
        "# Create a tensor using an numpy array\n",
        "J = tf.constant(np.array([1.,2.,3.,4.,5.]))\n",
        "J"
      ],
      "execution_count": 67,
      "outputs": [
        {
          "output_type": "execute_result",
          "data": {
            "text/plain": [
              "<tf.Tensor: shape=(5,), dtype=float64, numpy=array([1., 2., 3., 4., 5.])>"
            ]
          },
          "metadata": {
            "tags": []
          },
          "execution_count": 67
        }
      ]
    },
    {
      "cell_type": "code",
      "metadata": {
        "colab": {
          "base_uri": "https://localhost:8080/"
        },
        "id": "HnJGseDWQoUw",
        "outputId": "42211f59-09b8-4eac-9f95-97a0298751af"
      },
      "source": [
        "# Convert a tensor back to Numpy array\n",
        "\n",
        "np.array(J),J.numpy,type(np.array(J)),type(J.numpy())"
      ],
      "execution_count": 69,
      "outputs": [
        {
          "output_type": "execute_result",
          "data": {
            "text/plain": [
              "(array([1., 2., 3., 4., 5.]),\n",
              " <bound method _EagerTensorBase.numpy of <tf.Tensor: shape=(5,), dtype=float64, numpy=array([1., 2., 3., 4., 5.])>>,\n",
              " numpy.ndarray,\n",
              " numpy.ndarray)"
            ]
          },
          "metadata": {
            "tags": []
          },
          "execution_count": 69
        }
      ]
    },
    {
      "cell_type": "code",
      "metadata": {
        "colab": {
          "base_uri": "https://localhost:8080/"
        },
        "id": "d_z1oegvRIuq",
        "outputId": "c2c5aba6-18d5-44b0-d65e-1a86d5a618b1"
      },
      "source": [
        "# The default dtype of Numpy generated tensor and tensorflow generated tensor might be different\n",
        "l=[1.,2.,3.,4.,5.]\n",
        "numpy_J = tf.constant(np.array(l))\n",
        "tensor_J = tf.constant(l)\n",
        "# If we check the datatype(dtype) of both the values\n",
        "numpy_J.dtype,tensor_J.dtype"
      ],
      "execution_count": 71,
      "outputs": [
        {
          "output_type": "execute_result",
          "data": {
            "text/plain": [
              "(tf.float64, tf.float32)"
            ]
          },
          "metadata": {
            "tags": []
          },
          "execution_count": 71
        }
      ]
    },
    {
      "cell_type": "code",
      "metadata": {
        "id": "EKHanDrQSZLH"
      },
      "source": [
        ""
      ],
      "execution_count": null,
      "outputs": []
    }
  ]
}